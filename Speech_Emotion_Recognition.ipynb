{
  "nbformat": 4,
  "nbformat_minor": 0,
  "metadata": {
    "colab": {
      "name": "Speech Emotion Recognition.ipynb",
      "provenance": [],
      "collapsed_sections": [],
      "toc_visible": true,
      "include_colab_link": true
    },
    "kernelspec": {
      "name": "python3",
      "display_name": "Python 3"
    },
    "language_info": {
      "name": "python"
    },
    "accelerator": "GPU"
  },
  "cells": [
    {
      "cell_type": "markdown",
      "metadata": {
        "id": "view-in-github",
        "colab_type": "text"
      },
      "source": [
        "<a href=\"https://colab.research.google.com/github/OmarMoghazy/CNN-Speech-Emotion-Recognition/blob/main/Speech_Emotion_Recognition.ipynb\" target=\"_parent\"><img src=\"https://colab.research.google.com/assets/colab-badge.svg\" alt=\"Open In Colab\"/></a>"
      ]
    },
    {
      "cell_type": "code",
      "metadata": {
        "id": "r-BgzluxNxLN"
      },
      "source": [
        "import numpy as np\n",
        "import IPython\n",
        "from IPython.core.display import display\n",
        "import matplotlib.pyplot as plt\n",
        "import librosa\n",
        "import librosa.display\n",
        "import os\n",
        "from sklearn.model_selection import train_test_split\n",
        "import shutil\n",
        "from PIL import Image\n",
        "from sklearn import preprocessing\n",
        "import math\n",
        "import gc\n",
        "import pandas as pd\n",
        "\n",
        "import keras\n",
        "from keras.models import Sequential,Input,Model\n",
        "from keras.layers import Dense, Dropout, Flatten, Activation, BatchNormalization, concatenate\n",
        "from keras.layers import Conv2D, MaxPooling2D, Conv1D, MaxPool1D, MaxPooling1D\n",
        "from keras.layers.normalization import BatchNormalization\n",
        "from keras.layers.advanced_activations import LeakyReLU\n",
        "from keras.callbacks import LearningRateScheduler, ReduceLROnPlateau\n",
        "from keras.regularizers import l2"
      ],
      "execution_count": null,
      "outputs": []
    },
    {
      "cell_type": "markdown",
      "metadata": {
        "id": "kHqtpB5QdKRK"
      },
      "source": [
        "# Speech Emotion Recognition\n",
        "\n",
        "Speech is the most natural way of expressing ourselves as humans. It is only natural\n",
        "then to extend this communication medium to computer applications. We define\n",
        "speech emotion recognition (SER) systems as a collection of methodologies that\n",
        "process and classify speech signals to detect the embedded emotions."
      ]
    },
    {
      "cell_type": "markdown",
      "metadata": {
        "id": "IcYLXzJod0Rh"
      },
      "source": [
        "## The Dataset (CREMA-D)\n",
        "\n",
        "\n"
      ]
    },
    {
      "cell_type": "markdown",
      "metadata": {
        "id": "iue9fO1leo4x"
      },
      "source": [
        "https://github.com/CheyneyComputerScience/CREMA-D\n",
        "\n",
        "CREMA-D is a data set of 7,442 original clips from 91 actors. These clips were from 48 male and 43 female actors between the ages of 20 and 74 coming from a variety of races and ethnicities (African America, Asian, Caucasian, Hispanic, and Unspecified).\n",
        "\n",
        "Actors spoke from a selection of 12 sentences. The sentences were presented using one of six different emotions (Anger, Disgust, Fear, Happy, Neutral and Sad) and four different emotion levels (Low, Medium, High and Unspecified).\n",
        "\n",
        "Participants rated the emotion and emotion levels based on the combined audiovisual presentation, the video alone, and the audio alone. Due to the large number of ratings needed, this effort was crowd-sourced and a total of 2443 participants each rated 90 unique clips, 30 audio, 30 visual, and 30 audio-visual. 95% of the clips have more than 7 ratings."
      ]
    },
    {
      "cell_type": "markdown",
      "metadata": {
        "id": "fhKHS101eVRp"
      },
      "source": [
        "### Filename Labeling Conventions\n",
        "\n",
        "The Actor id is a 4 digit number at the start of the file. Each subsequent identifier is separated by an underscore (_)."
      ]
    },
    {
      "cell_type": "markdown",
      "metadata": {
        "id": "wFrJ4ZRqes74"
      },
      "source": [
        "\n",
        "Actors spoke from a selection of 12 sentences (in parentheses is the three letter acronym used in the second part of the filename):\n",
        "\n",
        "It's eleven o'clock (IEO).\n",
        "\n",
        "That is exactly what happened (TIE).\n",
        "\n",
        "I'm on my way to the meeting (IOM).\n",
        "\n",
        "I wonder what this is about (IWW).\n",
        "\n",
        "The airplane is almost full (TAI).\n",
        "\n",
        "Maybe tomorrow it will be cold (MTI).\n",
        "\n",
        "I would like a new alarm clock (IWL)\n",
        "\n",
        "I think I have a doctor's appointment (ITH).\n",
        "\n",
        "Don't forget a jacket (DFA).\n",
        "\n",
        "I think I've seen this before (ITS).\n",
        "\n",
        "The surface is slick (TSI).\n",
        "\n",
        "We'll stop in a couple of minutes (WSI)."
      ]
    },
    {
      "cell_type": "markdown",
      "metadata": {
        "id": "w8Cxaz_TfreK"
      },
      "source": [
        "The sentences were presented using different emotion (in parentheses is the three letter code used in the third part of the filename):\n",
        "\n",
        "Anger (ANG)\n",
        "\n",
        "Disgust (DIS)\n",
        "\n",
        "Fear (FEA)\n",
        "\n",
        "Happy/Joy (HAP)\n",
        "\n",
        "Neutral (NEU)\n",
        "\n",
        "Sad (SAD)"
      ]
    },
    {
      "cell_type": "markdown",
      "metadata": {
        "id": "CMoNlO37fxKW"
      },
      "source": [
        "and emotion level (in parentheses is the two letter code used in the fourth part of the filename):\n",
        "\n",
        "Low (LO)\n",
        "\n",
        "Medium (MD)\n",
        "\n",
        "High (HI)\n",
        "\n",
        "Unspecified (XX)"
      ]
    },
    {
      "cell_type": "markdown",
      "metadata": {
        "id": "wkpj6PbMgBHI"
      },
      "source": [
        "The suffix of the filename is based on the type of file, flv for flash video used for presentation of both the video only, and the audio-visual clips. mp3 is used for the audio files used for the audio-only presentation of the clips. wav is used for files used for computational audio processing.\n",
        "\n",
        "For our task, we are only going to use the .wav files."
      ]
    },
    {
      "cell_type": "markdown",
      "metadata": {
        "id": "6HWUJPBZhAJa"
      },
      "source": [
        "## Data Preparation"
      ]
    },
    {
      "cell_type": "markdown",
      "metadata": {
        "id": "-3MMBwL1GBit"
      },
      "source": [
        "The first step is reading the data and splitting it into training, testing and validation."
      ]
    },
    {
      "cell_type": "code",
      "metadata": {
        "id": "da4XsZU88wHa"
      },
      "source": [
        "dataset_path = './drive/MyDrive/Speech Emotion Recognition/Dataset/Crema'\n",
        "files = os.listdir(dataset_path)"
      ],
      "execution_count": null,
      "outputs": []
    },
    {
      "cell_type": "markdown",
      "metadata": {
        "id": "GFOnnuc_-GiX"
      },
      "source": [
        "We will split the dataset into training data and testing data by actor. There are 91 actors. Actor IDs start from 1001 up to 1091. "
      ]
    },
    {
      "cell_type": "code",
      "metadata": {
        "id": "Eb8BNo-6Crwc"
      },
      "source": [
        "IDs = np.arange(1001,1092)\n",
        "training_IDs, testing_IDs = train_test_split(IDs, test_size=0.3, random_state=42)"
      ],
      "execution_count": null,
      "outputs": []
    },
    {
      "cell_type": "code",
      "metadata": {
        "id": "2VJ277Iw-OLF"
      },
      "source": [
        "training_IDs = set(training_IDs)\n",
        "testing_IDs = set(testing_IDs)\n",
        "\n",
        "for filename in files:\n",
        "  if int(filename[0:4]) in training_IDs:\n",
        "    shutil.copyfile(dataset_path + '/' + filename, dataset_path + \"/..\" + \"/training/\" + filename)\n",
        "  else:\n",
        "    shutil.copyfile(dataset_path + '/' + filename, dataset_path + \"/..\" + \"/testing/\" + filename)\n"
      ],
      "execution_count": null,
      "outputs": []
    },
    {
      "cell_type": "markdown",
      "metadata": {
        "id": "amq0Q73CD6eW"
      },
      "source": [
        "Next, we will split the training data into training and validation."
      ]
    },
    {
      "cell_type": "code",
      "metadata": {
        "id": "4RAEQIsGD-_s"
      },
      "source": [
        "training_IDs_2, validation_IDs = train_test_split(list(training_IDs), test_size=0.05, random_state=42)"
      ],
      "execution_count": null,
      "outputs": []
    },
    {
      "cell_type": "code",
      "metadata": {
        "id": "_-2M1JYnETiK"
      },
      "source": [
        "validation_IDs = set(validation_IDs)"
      ],
      "execution_count": null,
      "outputs": []
    },
    {
      "cell_type": "code",
      "metadata": {
        "id": "WRHrkJyXEs87"
      },
      "source": [
        "for filename in files:\n",
        "  if int(filename[0:4]) in validation_IDs:\n",
        "    shutil.move(dataset_path + \"/..\" + \"/training/\" + filename, dataset_path + \"/..\" + \"/validation/\" + filename)"
      ],
      "execution_count": null,
      "outputs": []
    },
    {
      "cell_type": "markdown",
      "metadata": {
        "id": "s9rVKk83hEqw"
      },
      "source": [
        "We need the filename of each of the audio files, which will be used:\n",
        " \n",
        "*   to read the wav file\n",
        "*   to get the actor id, emotion and emotion level.\n",
        "\n"
      ]
    },
    {
      "cell_type": "code",
      "metadata": {
        "id": "bcjD3HY1XPtG",
        "colab": {
          "base_uri": "https://localhost:8080/"
        },
        "outputId": "16db6067-d6e6-4286-af8b-b8f888e12f1e"
      },
      "source": [
        "from google.colab import drive\n",
        "drive.mount('/content/drive')"
      ],
      "execution_count": null,
      "outputs": [
        {
          "output_type": "stream",
          "text": [
            "Drive already mounted at /content/drive; to attempt to forcibly remount, call drive.mount(\"/content/drive\", force_remount=True).\n"
          ],
          "name": "stdout"
        }
      ]
    },
    {
      "cell_type": "code",
      "metadata": {
        "id": "EEOhXlZUHKj9"
      },
      "source": [
        "training_data_path = './drive/MyDrive/Speech Emotion Recognition/Dataset/training'\n",
        "training_files = os.listdir(training_data_path)"
      ],
      "execution_count": null,
      "outputs": []
    },
    {
      "cell_type": "code",
      "metadata": {
        "id": "wq8Gv-GT_IUF"
      },
      "source": [
        "testing_data_path = './drive/MyDrive/Speech Emotion Recognition/Dataset/testing'\n",
        "testing_files = os.listdir(testing_data_path)"
      ],
      "execution_count": null,
      "outputs": []
    },
    {
      "cell_type": "code",
      "metadata": {
        "id": "RtEMKBkQ_Joa"
      },
      "source": [
        "validation_data_path = './drive/MyDrive/Speech Emotion Recognition/Dataset/validation'\n",
        "validation_files = os.listdir(validation_data_path)"
      ],
      "execution_count": null,
      "outputs": []
    },
    {
      "cell_type": "markdown",
      "metadata": {
        "id": "MTy_hnR2iclQ"
      },
      "source": [
        "The following function takes a single parameter which is the path to an audio file. It displays a player for the audio file, plots its waveform and displays its Mel spectogram. It also displays some information about the file such as duration in seconds, sampling rate and number of samples."
      ]
    },
    {
      "cell_type": "code",
      "metadata": {
        "id": "UXA7ioFDDA_h"
      },
      "source": [
        "def el3abat(path):\n",
        "  '''Displays player for the audio file.\n",
        "  Plots the waveform of the audio file.\n",
        "  Plots the Mel spectogram of the audio file'''\n",
        "\n",
        "  display(IPython.display.Audio(path))\n",
        "\n",
        "  data, fs = librosa.load(path, sr=None)\n",
        "\n",
        "  duration = data.size/fs\n",
        "\n",
        "  print(\"Duration:\\t\" + str(duration) + \" seconds\")\n",
        "  print(\"Sampling rate:\\t\" + str(fs) + \" samples per second\")\n",
        "  print(\"Signal size:\\t\" + str(data.size) + \" samples\")\n",
        "  print()\n",
        "\n",
        "  librosa.display.waveplot(data, sr=fs)\n",
        "  plt.title(\"Time Domain Waveform\")\n",
        "  plt.show()\n",
        "  print()\n",
        "  sgram = librosa.stft(data)\n",
        "  # librosa.display.specshow(sgram)\n",
        "  print('Mel spectogram')\n",
        "  sgram_mag, _ = librosa.magphase(sgram)\n",
        "  mel_scale_sgram = librosa.feature.melspectrogram(S=sgram_mag, sr=fs)\n",
        "  librosa.display.specshow(mel_scale_sgram)\n",
        "  plt.show()"
      ],
      "execution_count": null,
      "outputs": []
    },
    {
      "cell_type": "code",
      "metadata": {
        "colab": {
          "base_uri": "https://localhost:8080/",
          "height": 695
        },
        "id": "lGTejU5DKwZz",
        "outputId": "9cf08c79-cc98-4996-9fc4-5578a02ece39"
      },
      "source": [
        "path = training_data_path + '/' + training_files[8]\n",
        "el3abat(path)"
      ],
      "execution_count": null,
      "outputs": [
        {
          "output_type": "display_data",
          "data": {
            "text/html": [
              "\n",
              "                <audio controls=\"controls\" >\n",
              "                    <source src=\"data:audio/x-wav;base64,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\" type=\"audio/x-wav\" />\n",
              "                    Your browser does not support the audio element.\n",
              "                </audio>\n",
              "              "
            ],
            "text/plain": [
              "<IPython.lib.display.Audio object>"
            ]
          },
          "metadata": {
            "tags": []
          }
        },
        {
          "output_type": "stream",
          "text": [
            "Duration:\t2.93625 seconds\n",
            "Sampling rate:\t16000 samples per second\n",
            "Signal size:\t46980 samples\n",
            "\n"
          ],
          "name": "stdout"
        },
        {
          "output_type": "display_data",
          "data": {
            "image/png": "[encoded data removed]",
            "text/plain": [
              "<Figure size 432x288 with 1 Axes>"
            ]
          },
          "metadata": {
            "tags": [],
            "needs_background": "light"
          }
        },
        {
          "output_type": "stream",
          "text": [
            "\n",
            "Mel Spectogram\n"
          ],
          "name": "stdout"
        },
        {
          "output_type": "display_data",
          "data": {
            "image/png": "[encoded data removed]",
            "text/plain": [
              "<Figure size 432x288 with 1 Axes>"
            ]
          },
          "metadata": {
            "tags": []
          }
        }
      ]
    },
    {
      "cell_type": "markdown",
      "metadata": {
        "id": "2bS_uPtV2GCF"
      },
      "source": [
        "We need to make sure that all the audio files have the same duration. We will add padding (of silence) to all audio files that have less samples than the maximum. But first, we need to find the maximum."
      ]
    },
    {
      "cell_type": "code",
      "metadata": {
        "colab": {
          "base_uri": "https://localhost:8080/"
        },
        "id": "FSgJfO0PpOaJ",
        "outputId": "32869317-beb1-43f8-ff27-5145cffd6221"
      },
      "source": [
        "# max = 0\n",
        "# for f in files:\n",
        "#   path = path = dataset_path + '/' + f\n",
        "#   # data, fs = librosa.load(path, sr=None)\n",
        "#   s = librosa.get_duration(filename=path)\n",
        "#   if s > max:\n",
        "#     max = s\n",
        "#     print(max, fs, filename) "
      ],
      "execution_count": null,
      "outputs": [
        {
          "output_type": "stream",
          "text": [
            "3.536875 16000 1037_IEO_ANG_HI.wav\n",
            "3.603625 16000 1037_IEO_ANG_HI.wav\n",
            "3.6703125 16000 1037_IEO_ANG_HI.wav\n",
            "3.970625 16000 1037_IEO_ANG_HI.wav\n",
            "4.2041875 16000 1037_IEO_ANG_HI.wav\n",
            "4.3376875 16000 1037_IEO_ANG_HI.wav\n",
            "4.404375 16000 1037_IEO_ANG_HI.wav\n",
            "4.537875 16000 1037_IEO_ANG_HI.wav\n",
            "4.7714375 16000 1037_IEO_ANG_HI.wav\n",
            "4.8048125 16000 1037_IEO_ANG_HI.wav\n",
            "4.8715625 16000 1037_IEO_ANG_HI.wav\n",
            "4.971625 16000 1037_IEO_ANG_HI.wav\n",
            "5.005 16000 1037_IEO_ANG_HI.wav\n"
          ],
          "name": "stdout"
        }
      ]
    },
    {
      "cell_type": "markdown",
      "metadata": {
        "id": "HySyPzNe1NVs"
      },
      "source": [
        "From the outout of the previous cell, we can see that the Longest duration is 5.005 seconds. Therefore, the maximum number of samples in the dataset is 80080 samples.\n",
        "\n",
        "For every audio file in the dataset, if it has less than 80100 samples, we will add zero-padding to get it to 80100 samples. Then, we are going to normalize it then generate its Mel spectogram and save it to google drive."
      ]
    },
    {
      "cell_type": "markdown",
      "metadata": {
        "id": "qGaesGlTKB0i"
      },
      "source": [
        "### First Feature Space"
      ]
    },
    {
      "cell_type": "markdown",
      "metadata": {
        "id": "Su_Tlz-Q-Pg5"
      },
      "source": [
        "#### Waveform"
      ]
    },
    {
      "cell_type": "code",
      "metadata": {
        "id": "Ua9OiqRT2wpo"
      },
      "source": [
        "Z = []\n",
        "count = 0\n",
        "for filename in training_files:\n",
        "  count = count + 1\n",
        "  #load file\n",
        "  path = training_data_path + '/' + filename\n",
        "  data, fs = librosa.load(path, sr=None)\n",
        "  \n",
        "  add padding\n",
        "  if data.size < 80100:\n",
        "    padding = 80100 - data.size\n",
        "    if padding%2 == 0:\n",
        "      data = np.hstack((data, np.zeros(padding//2)))\n",
        "      data = np.hstack((np.zeros(padding//2), data))\n",
        "    else:\n",
        "      data = np.hstack((data, np.zeros(padding//2)))\n",
        "      data = np.hstack((np.zeros(padding//2 + 1), data))\n",
        "  Z.append(data)\n",
        "  librosa.display.waveplot(data, sr=fs)\n",
        "  np.save(\"drive/MyDrive/Speech Emotion Recognition/Training padded waveforms/\"+ filename[:-4] + \".npy\", data)\n",
        "  if count % 100 == 0:\n",
        "    print(count, end=' ')\n",
        "\n",
        "  # produce Mel spectogram\n",
        "  # sgram = librosa.stft(data)\n",
        "  # sgram_mag, _ = librosa.magphase(sgram)\n",
        "  # mel_scale_sgram = librosa.feature.melspectogram(S=sgram_mag, sr=fs)\n",
        "  # librosa.display.specshow(mel_scale_sgram)\n",
        "\n",
        "  # save to google drive\n",
        "  # np.save(\"drive/MyDrive/Speech Emotion Recognition/Training Mel spectograms/\"+ filename[:-4] + \".npy\", mel_scale_sgram)"
      ],
      "execution_count": null,
      "outputs": []
    },
    {
      "cell_type": "code",
      "metadata": {
        "id": "bhdaUEC_4PCe"
      },
      "source": [
        "Z = []\n",
        "for filename in training_files:\n",
        "  Z.append(np.load(\"drive/MyDrive/Speech Emotion Recognition/Training padded waveforms/\"+ filename[:-4] + \".npy\"))\n",
        "\n",
        "Z = np.array(Z)"
      ],
      "execution_count": null,
      "outputs": []
    },
    {
      "cell_type": "code",
      "metadata": {
        "colab": {
          "base_uri": "https://localhost:8080/",
          "height": 282
        },
        "id": "BIUWiwpy4qmE",
        "outputId": "4412744f-8e2c-4c50-8c59-6b51e99f4307"
      },
      "source": [
        "plt.plot(Z[0])"
      ],
      "execution_count": null,
      "outputs": [
        {
          "output_type": "execute_result",
          "data": {
            "text/plain": [
              "[<matplotlib.lines.Line2D at 0x7f31baa5e110>]"
            ]
          },
          "metadata": {
            "tags": []
          },
          "execution_count": 5
        },
        {
          "output_type": "display_data",
          "data": {
            "image/png": "[encoded data removed]",
            "text/plain": [
              "<Figure size 432x288 with 1 Axes>"
            ]
          },
          "metadata": {
            "tags": [],
            "needs_background": "light"
          }
        }
      ]
    },
    {
      "cell_type": "code",
      "metadata": {
        "id": "hWk-tgejxGrv"
      },
      "source": [
        "mean = np.mean(Z, axis=0)\n",
        "std = np.std(Z, axis=0)\n",
        "\n",
        "np.save('drive/MyDrive/Speech Emotion Recognition/training_mean.npy', mean)\n",
        "np.save('drive/MyDrive/Speech Emotion Recognition/training_std.npy', std)"
      ],
      "execution_count": null,
      "outputs": []
    },
    {
      "cell_type": "code",
      "metadata": {
        "id": "32DGEPQo9wxt"
      },
      "source": [
        "mean = np.load('drive/MyDrive/Speech Emotion Recognition/training_mean.npy')\n",
        "std = np.load('drive/MyDrive/Speech Emotion Recognition/training_std.npy')"
      ],
      "execution_count": null,
      "outputs": []
    },
    {
      "cell_type": "code",
      "metadata": {
        "colab": {
          "base_uri": "https://localhost:8080/",
          "height": 660
        },
        "id": "QAc6Vy2yxcQX",
        "outputId": "e7507475-a014-4930-d4f4-9bc4a833f1c7"
      },
      "source": [
        "print('Mean of the dataset: ' + str(mean))\n",
        "print('Standard deviation for the dataset: ' + str(std))\n",
        "\n",
        "fig, axes = plt.subplots(2,1)\n",
        "fig.set_size_inches(10,10)\n",
        "axes[0].plot(mean)\n",
        "axes[0].set_title('Mean')\n",
        "\n",
        "axes[1].plot(std)\n",
        "axes[1].set_title('Standard Deviation')"
      ],
      "execution_count": null,
      "outputs": [
        {
          "output_type": "stream",
          "text": [
            "Mean of the dataset: [0. 0. 0. ... 0. 0. 0.]\n",
            "Standard deviation for the dataset: [0. 0. 0. ... 0. 0. 0.]\n"
          ],
          "name": "stdout"
        },
        {
          "output_type": "execute_result",
          "data": {
            "text/plain": [
              "Text(0.5, 1.0, 'Standard Deviation')"
            ]
          },
          "metadata": {
            "tags": []
          },
          "execution_count": 7
        },
        {
          "output_type": "display_data",
          "data": {
            "image/png": "[encoded data removed]",
            "text/plain": [
              "<Figure size 720x720 with 2 Axes>"
            ]
          },
          "metadata": {
            "tags": [],
            "needs_background": "light"
          }
        }
      ]
    },
    {
      "cell_type": "markdown",
      "metadata": {
        "id": "_wQsF2HxyqfF"
      },
      "source": [
        "There are some zeros in the standard deviation, which will affect our normalization process because we divide by the standard deviation.\n",
        "\n",
        "We will set all 0 values of standard deviation to 1 instead, which makes sense because 0 standard deviation means all values for this feature are equal to the mean, so the normalized (centered and scales) value for this feature will be 0, which means it does not deviate from the mean."
      ]
    },
    {
      "cell_type": "code",
      "metadata": {
        "id": "27wqrSfqyqFf"
      },
      "source": [
        "zeros = np.where(std == 0)\n",
        "std[zeros] = 1"
      ],
      "execution_count": null,
      "outputs": []
    },
    {
      "cell_type": "markdown",
      "metadata": {
        "id": "Wlh-pSqNWZP1"
      },
      "source": [
        "Normalizing the data after calculating the mean and variance."
      ]
    },
    {
      "cell_type": "code",
      "metadata": {
        "id": "3pArrg5nVmSG"
      },
      "source": [
        "for filename in training_files:\n",
        "  temp = np.load('drive/MyDrive/Speech Emotion Recognition/Training padded waveforms/' + filename[:-4] + '.npy')\n",
        "  temp = (temp-mean)/std\n",
        "  np.save('drive/MyDrive/Speech Emotion Recognition/Training normalized waveforms/' + filename[:-4] + '.npy', temp)"
      ],
      "execution_count": null,
      "outputs": []
    },
    {
      "cell_type": "markdown",
      "metadata": {
        "id": "TQgOwOGIKf4J"
      },
      "source": [
        "#### Zero Crossing Rate and Energy\n",
        "ZCR: The rate of sign-changes of the signal during\n",
        "the duration of a particular frame.\n",
        "\n",
        "Energy: The sum of squares of the signal values, normalized by\n",
        "the respective frame length."
      ]
    },
    {
      "cell_type": "code",
      "metadata": {
        "id": "LXwYeZ7KLpvu"
      },
      "source": [
        "zcrs = []\n",
        "energy = []\n",
        "count = 0\n",
        "for filename in training_files:\n",
        "  count = count + 1\n",
        "  if count % 100 == 0:\n",
        "    print(count, end=' ')\n",
        "  data, fs = librosa.load('drive/MyDrive/Speech Emotion Recognition/Dataset/training/' + filename[:-4] + '.wav', sr=None)\n",
        "  zcrs.append(np.sum(librosa.feature.zero_crossing_rate(data, pad=False)))\n",
        "  energy.append(np.sum(np.square(data))/data.size)"
      ],
      "execution_count": null,
      "outputs": []
    },
    {
      "cell_type": "code",
      "metadata": {
        "id": "LU-D8x_aMfKJ"
      },
      "source": [
        "np.save('drive/MyDrive/Speech Emotion Recognition/ZCR.npy', zcrs)\n",
        "np.save('drive/MyDrive/Speech Emotion Recognition/energy.npy', energy)"
      ],
      "execution_count": null,
      "outputs": []
    },
    {
      "cell_type": "code",
      "metadata": {
        "colab": {
          "base_uri": "https://localhost:8080/",
          "height": 298
        },
        "id": "FD6T50G2RTQE",
        "outputId": "5812c6e9-288c-42e7-d165-98c323e22d0f"
      },
      "source": [
        "fig, axes = plt.subplots(1,2)\n",
        "fig.set_size_inches(10,4)\n",
        "\n",
        "axes[0].set_title('Zero Crossing Rate')\n",
        "axes[0].plot(zcrs)\n",
        "axes[1].set_title('Energy')\n",
        "axes[1].plot(energy)"
      ],
      "execution_count": null,
      "outputs": [
        {
          "output_type": "execute_result",
          "data": {
            "text/plain": [
              "[<matplotlib.lines.Line2D at 0x7f2feac67550>]"
            ]
          },
          "metadata": {
            "tags": []
          },
          "execution_count": 99
        },
        {
          "output_type": "display_data",
          "data": {
            "image/png": "[encoded data removed]",
            "text/plain": [
              "<Figure size 720x288 with 2 Axes>"
            ]
          },
          "metadata": {
            "tags": [],
            "needs_background": "light"
          }
        }
      ]
    },
    {
      "cell_type": "markdown",
      "metadata": {
        "id": "J6DlO58p-x-x"
      },
      "source": [
        "### Second Feature Space"
      ]
    },
    {
      "cell_type": "markdown",
      "metadata": {
        "id": "L_xTG1kZKK5J"
      },
      "source": [
        "#### Mel spectograms"
      ]
    },
    {
      "cell_type": "markdown",
      "metadata": {
        "id": "TmZ_SHywpOzx"
      },
      "source": [
        "Next, we are going to read the entire dataset and produce a Mel spectogram for each audio file which we will save to google drive as a numpy array using the same naming conventions.\n",
        "\n",
        "We will use these Mel spectograms as the second feature space.\n",
        "\n",
        "[Read more about Mel spectograms and why they are using for deep learning here](https://towardsdatascience.com/audio-deep-learning-made-simple-part-2-why-mel-spectograms-perform-better-aad889a93505)."
      ]
    },
    {
      "cell_type": "code",
      "metadata": {
        "id": "wzz__LA0_Bhh"
      },
      "source": [
        "fs = 16000\n",
        "S = []\n",
        "count = 0\n",
        "\n",
        "for filename in training_files:\n",
        "  count = count + 1\n",
        "  if count % 100 ==0:\n",
        "    print(count)\n",
        "  temp = np.load('drive/MyDrive/Speech Emotion Recognition/Training normalized waveforms/' + filename[:-4] + '.npy')\n",
        "\n",
        "  # produce Mel spectogram\n",
        "  sgram = librosa.stft(temp)\n",
        "  sgram_mag, _ = librosa.magphase(sgram)\n",
        "  mel_scale_sgram = librosa.feature.melspectogram(S=sgram_mag, sr=fs)\n",
        "  \n",
        "  S.append(mel_scale_sgram)\n",
        "  # librosa.display.specshow(mel_scale_sgram)\n",
        "\n",
        "  # save to google drive\n",
        "  # np.save(\"drive/MyDrive/Speech Emotion Recognition/Training Mel spectograms/\"+ filename[:-4] + \".npy\", mel_scale_sgram)"
      ],
      "execution_count": null,
      "outputs": []
    },
    {
      "cell_type": "markdown",
      "metadata": {
        "id": "Dsy73ZT1D99e"
      },
      "source": [
        "Next, we will calculate the normalization statistics for the mel spectograms"
      ]
    },
    {
      "cell_type": "code",
      "metadata": {
        "id": "sKOawYk0EGRh"
      },
      "source": [
        "mean = np.mean(S, axis=0)\n",
        "std = np.std(S, axis=0)\n",
        "\n",
        "np.save('drive/MyDrive/Speech Emotion Recognition/training_spectogram_mean.npy', mean)\n",
        "np.save('drive/MyDrive/Speech Emotion Recognition/training_spectogram_std.npy', std)"
      ],
      "execution_count": null,
      "outputs": []
    },
    {
      "cell_type": "code",
      "metadata": {
        "id": "i7B-518FE4v7"
      },
      "source": [
        "zeros = np.where(std==0)\n",
        "std[zeros] = 1"
      ],
      "execution_count": null,
      "outputs": []
    },
    {
      "cell_type": "markdown",
      "metadata": {
        "id": "U1sSN73zHCUL"
      },
      "source": [
        "Now we will normalize the spectograms using the normalization statistics that we just calculated."
      ]
    },
    {
      "cell_type": "code",
      "metadata": {
        "id": "ntROvYaSG8P2"
      },
      "source": [
        "fs = 16000\n",
        "count = 0\n",
        "for filename in training_files:\n",
        "  count = count + 1\n",
        "  if count % 100 == 0:\n",
        "    print(count, end=' ')\n",
        "  temp = np.load('drive/MyDrive/Speech Emotion Recognition/Training normalized waveforms/' + filename[:-4] + '.npy')\n",
        "\n",
        "   # produce Mel spectogram\n",
        "  sgram = librosa.stft(temp)\n",
        "  sgram_mag, _ = librosa.magphase(sgram)\n",
        "  mel_scale_sgram = librosa.feature.melspectogram(S=sgram_mag, sr=fs)\n",
        "\n",
        "  # normalization\n",
        "  temp = (mel_scale_sgram - mean) / std\n",
        "\n",
        "  # save to google drive\n",
        "  np.save('drive/MyDrive/Speech Emotion Recognition/Training normalized Mel Spectograms/' + filename[:-4] + '.npy', temp)"
      ],
      "execution_count": null,
      "outputs": []
    },
    {
      "cell_type": "markdown",
      "metadata": {
        "id": "NA2OY3OMTZUf"
      },
      "source": [
        "## Feature Extraction"
      ]
    },
    {
      "cell_type": "markdown",
      "metadata": {
        "id": "afb0DmmcTexl"
      },
      "source": [
        "### Training"
      ]
    },
    {
      "cell_type": "code",
      "metadata": {
        "id": "HM3UZUZ1TdPH",
        "colab": {
          "base_uri": "https://localhost:8080/"
        },
        "outputId": "cd77f841-6570-491b-91cf-e907b3858d72"
      },
      "source": [
        "df = pd.DataFrame(columns=['power_max', 'power_mean', 'power_min', 'power_median', 'power_range', 'power_std', 'power_var',\n",
        "                           'zcr_max', 'zcr_mean', 'zcr_min', 'zcr_median', 'zcr_range', 'zcr_std', 'zcr_var', 'spectogram', 'filename',\n",
        "                           'label'])\n",
        "count = 0\n",
        "spectograms = []\n",
        "labels = []\n",
        "for i, filename in zip(range(len(training_files)),training_files):\n",
        "  count = count + 1\n",
        "  if count % 100 == 0:\n",
        "    print(count, end=' ')\n",
        "  powers = []\n",
        "  power_max = float('-inf')\n",
        "  power_mean = 0\n",
        "  power_min = float('inf')\n",
        "  power_median = 0\n",
        "  power_range = 0\n",
        "  power_std = 0\n",
        "  power_var = 0\n",
        "\n",
        "  zcrs = []\n",
        "  zcr_max = float('-inf')\n",
        "  zcr_mean = 0\n",
        "  zcr_min = float('inf')\n",
        "  zcr_median = 0\n",
        "  zcr_range = 0\n",
        "  zcr_std = 0\n",
        "  zcr_var = 0\n",
        "\n",
        "  data, fs = librosa.load('drive/MyDrive/Speech Emotion Recognition/Dataset/training/' + filename[:-4] + '.wav', sr=None)\n",
        "  chunk_size = 256\n",
        "  chuggs = [data[x:x+chunk_size] for x in range(0, len(data), chunk_size)]\n",
        "  for chunk in chuggs:\n",
        "    chunk_power = np.mean(np.sum(chunk**2))\n",
        "    powers.append(chunk_power)\n",
        "    if power_max < chunk_power:\n",
        "      power_max = chunk_power\n",
        "    if power_min > chunk_power:\n",
        "      power_min = chunk_power\n",
        "    \n",
        "    chunk_zcr = np.sum(librosa.feature.zero_crossing_rate(chunk, pad=False))\n",
        "    zcrs.append(chunk_zcr)\n",
        "    if zcr_max < chunk_zcr:\n",
        "      zcr_max = chunk_zcr\n",
        "    if zcr_min > chunk_zcr:\n",
        "      zcr_min = chunk_zcr\n",
        "\n",
        "  power_mean = np.mean(powers)\n",
        "  power_median = np.median(powers)\n",
        "  power_range = power_max - power_median\n",
        "  power_std = np.std(powers)\n",
        "  power_var = np.var(powers)\n",
        "\n",
        "  zcr_mean = np.mean(zcrs)\n",
        "  zcr_median = np.median(zcrs)\n",
        "  zcr_range = zcr_max - zcr_min\n",
        "  zcr_std = np.std(zcrs)\n",
        "  zcr_var = np.var(zcrs)\n",
        "\n",
        "\n",
        "  s = np.load('/content/drive/MyDrive/Speech Emotion Recognition/Training normalized Mel Spectograms/'+filename[:-4]+'.npy')\n",
        "\n",
        "  spectograms.append(s)\n",
        "\n",
        "  \n",
        "  label = filename.split('_')[2]\n",
        "\n",
        "  labels.append(label)\n",
        "\n",
        "  if label == 'ANG':\n",
        "    label = 0\n",
        "  elif label == 'DIS':\n",
        "    label = 1\n",
        "  elif label == 'FEA':\n",
        "    label = 2\n",
        "  elif label == 'HAP':\n",
        "    label = 3\n",
        "  elif label == 'NEU':\n",
        "    label = 4\n",
        "  elif label == 'SAD':\n",
        "    label = 5\n",
        "\n",
        "\n",
        "  df.loc[i] = {'power_max':power_max,'power_mean':power_mean,'power_min':power_min,\n",
        "               'power_median':power_median,'power_range':power_range,'power_std':power_std,\n",
        "               'power_var':power_var, 'zcr_max':zcr_max, 'zcr_mean':zcr_mean,'zcr_min':zcr_min,\n",
        "               'zcr_median':zcr_median, 'zcr_range':zcr_range, 'zcr_std':zcr_std,\n",
        "               'zcr_var':zcr_var, 'spectogram':s, 'filename':filename,'label':label}"
      ],
      "execution_count": null,
      "outputs": [
        {
          "output_type": "stream",
          "text": [
            "100 200 300 400 500 600 700 800 900 1000 1100 1200 1300 1400 1500 1600 1700 1800 1900 2000 2100 2200 2300 2400 2500 2600 2700 2800 2900 3000 3100 3200 3300 3400 3500 3600 3700 3800 3900 4000 4100 4200 4300 4400 4500 4600 4700 4800 "
          ],
          "name": "stdout"
        }
      ]
    },
    {
      "cell_type": "code",
      "metadata": {
        "id": "FZM7OnA6UxbC"
      },
      "source": [
        "_1d_mean = np.mean(df.drop(columns = ['spectogram', 'filename', 'label']), axis=0)\n",
        "_1d_std = np.std(df.drop(columns = ['spectogram', 'filename', 'label']), axis=0)\n",
        "\n",
        "np.save('drive/MyDrive/Speech Emotion Recognition/1d_mean.npy', _1d_mean)\n",
        "np.save('drive/MyDrive/Speech Emotion Recognition/1d_std.npy', _1d_std)\n",
        "\n",
        "df = pd.concat(((df.drop(columns = ['spectogram', 'filename', 'label']) - _1d_mean) / _1d_std, df[['spectogram', 'filename', 'label']]), axis=1)"
      ],
      "execution_count": null,
      "outputs": []
    },
    {
      "cell_type": "markdown",
      "metadata": {
        "id": "jzhbi1pGThCU"
      },
      "source": [
        "### Validation"
      ]
    },
    {
      "cell_type": "code",
      "metadata": {
        "colab": {
          "base_uri": "https://localhost:8080/"
        },
        "id": "qAlmlU2PTjg3",
        "outputId": "e8a4a5eb-cbd0-422c-8692-739167f1bcf5"
      },
      "source": [
        "df_v = pd.DataFrame(columns=['power_max', 'power_mean', 'power_min', 'power_median', 'power_range', 'power_std', 'power_var',\n",
        "                           'zcr_max', 'zcr_mean', 'zcr_min', 'zcr_median', 'zcr_range', 'zcr_std', 'zcr_var', 'spectogram', 'filename',\n",
        "                           'label'])\n",
        "count = 0\n",
        "spectograms = []\n",
        "labels = []\n",
        "\n",
        "mean_aaa = np.load('/content/drive/MyDrive/Speech Emotion Recognition/1d_mean.npy')\n",
        "std_aaa = np.load('/content/drive/MyDrive/Speech Emotion Recognition/1d_std.npy')\n",
        "\n",
        "_1d_mean = np.load('/content/drive/MyDrive/Speech Emotion Recognition/training_mean.npy')\n",
        "_1d_std = np.load('/content/drive/MyDrive/Speech Emotion Recognition/training_std.npy')\n",
        "\n",
        "_2d_mean = np.load('drive/MyDrive/Speech Emotion Recognition/training_spectogram_mean.npy')\n",
        "_2d_std = np.load('drive/MyDrive/Speech Emotion Recognition/training_spectogram_std.npy')\n",
        "\n",
        "for i, filename in zip(range(len(validation_files)),validation_files):\n",
        "  count = count + 1\n",
        "  if count % 100 == 0:\n",
        "    print(count, end=' ')\n",
        "  powers = []\n",
        "  power_max = float('-inf')\n",
        "  power_mean = 0\n",
        "  power_min = float('inf')\n",
        "  power_median = 0\n",
        "  power_range = 0\n",
        "  power_std = 0\n",
        "  power_var = 0\n",
        "\n",
        "  zcrs = []\n",
        "  zcr_max = float('-inf')\n",
        "  zcr_mean = 0\n",
        "  zcr_min = float('inf')\n",
        "  zcr_median = 0\n",
        "  zcr_range = 0\n",
        "  zcr_std = 0\n",
        "  zcr_var = 0\n",
        "\n",
        "  data, fs = librosa.load('/content/drive/MyDrive/Speech Emotion Recognition/Dataset/validation/'+filename, sr=None)\n",
        "\n",
        "  chunk_size = 256\n",
        "  chuggs = [data[x:x+chunk_size] for x in range(0, len(data), chunk_size)]\n",
        "  for chunk in chuggs:\n",
        "    chunk_power = np.mean(np.sum(chunk**2))\n",
        "    powers.append(chunk_power)\n",
        "    if power_max < chunk_power:\n",
        "      power_max = chunk_power\n",
        "    if power_min > chunk_power:\n",
        "      power_min = chunk_power\n",
        "    \n",
        "    chunk_zcr = np.sum(librosa.feature.zero_crossing_rate(chunk, pad=False))\n",
        "    zcrs.append(chunk_zcr)\n",
        "    if zcr_max < chunk_zcr:\n",
        "      zcr_max = chunk_zcr\n",
        "    if zcr_min > chunk_zcr:\n",
        "      zcr_min = chunk_zcr\n",
        "\n",
        "  power_mean = np.mean(powers)\n",
        "  power_median = np.median(powers)\n",
        "  power_range = power_max - power_median\n",
        "  power_std = np.std(powers)\n",
        "  power_var = np.var(powers)\n",
        "\n",
        "  zcr_mean = np.mean(zcrs)\n",
        "  zcr_median = np.median(zcrs)\n",
        "  zcr_range = zcr_max - zcr_min\n",
        "  zcr_std = np.std(zcrs)\n",
        "  zcr_var = np.var(zcrs)\n",
        "\n",
        "  if data.size < 80100:\n",
        "    padding = 80100 - data.size\n",
        "    if padding%2 == 0:\n",
        "      data = np.hstack((data, np.zeros(padding//2)))\n",
        "      data = np.hstack((np.zeros(padding//2), data))\n",
        "    else:\n",
        "      data = np.hstack((data, np.zeros(padding//2)))\n",
        "      data = np.hstack((np.zeros(padding//2 + 1), data))\n",
        "\n",
        "  zeros = np.where(_1d_std == 0)\n",
        "  _1d_std[zeros] = 1\n",
        "  \n",
        "  data = (data-_1d_mean)/_1d_std\n",
        "\n",
        "  sgram = librosa.stft(data)\n",
        "  sgram_mag, _ = librosa.magphase(sgram)\n",
        "  s = librosa.feature.melspectrogram(S=sgram_mag, sr=fs)\n",
        "\n",
        "  s = (s - _2d_mean) / _2d_std \n",
        "  s = s.reshape(-1,157,128,1)\n",
        "  spectograms.append(s)\n",
        "  \n",
        "  label = filename.split('_')[2]\n",
        "\n",
        "  labels.append(label)\n",
        "\n",
        "  if label == 'ANG':\n",
        "    label = 0\n",
        "  elif label == 'DIS':\n",
        "    label = 1\n",
        "  elif label == 'FEA':\n",
        "    label = 2\n",
        "  elif label == 'HAP':\n",
        "    label = 3\n",
        "  elif label == 'NEU':\n",
        "    label = 4\n",
        "  elif label == 'SAD':\n",
        "    label = 5\n",
        "\n",
        "\n",
        "  df_v.loc[i] = {'power_max':power_max,'power_mean':power_mean,'power_min':power_min,\n",
        "               'power_median':power_median,'power_range':power_range,'power_std':power_std,\n",
        "               'power_var':power_var, 'zcr_max':zcr_max, 'zcr_mean':zcr_mean,'zcr_min':zcr_min,\n",
        "               'zcr_median':zcr_median, 'zcr_range':zcr_range, 'zcr_std':zcr_std,\n",
        "               'zcr_var':zcr_var, 'spectogram':s, 'filename':filename,'label':label}\n",
        "\n",
        "df_v = pd.concat(((df_v.drop(columns = ['spectogram', 'filename', 'label']) - mean_aaa) / std_aaa, df_v[['spectogram', 'filename', 'label']]), axis=1)"
      ],
      "execution_count": null,
      "outputs": [
        {
          "output_type": "stream",
          "text": [
            "100 200 300 "
          ],
          "name": "stdout"
        }
      ]
    },
    {
      "cell_type": "markdown",
      "metadata": {
        "id": "Z2U_zztYUjAH"
      },
      "source": [
        "### Testing"
      ]
    },
    {
      "cell_type": "code",
      "metadata": {
        "colab": {
          "base_uri": "https://localhost:8080/"
        },
        "id": "ZraeLyfnUlW5",
        "outputId": "d781af35-9310-4f06-8afd-78d4c982d2b7"
      },
      "source": [
        "df_t = pd.DataFrame(columns=['power_max', 'power_mean', 'power_min', 'power_median', 'power_range', 'power_std', 'power_var',\n",
        "                           'zcr_max', 'zcr_mean', 'zcr_min', 'zcr_median', 'zcr_range', 'zcr_std', 'zcr_var', 'spectogram', 'filename',\n",
        "                           'label'])\n",
        "count = 0\n",
        "spectograms = []\n",
        "labels = []\n",
        "\n",
        "mean_aaa = np.load('/content/drive/MyDrive/Speech Emotion Recognition/1d_mean.npy')\n",
        "std_aaa = np.load('/content/drive/MyDrive/Speech Emotion Recognition/1d_std.npy')\n",
        "\n",
        "_1d_mean = np.load('/content/drive/MyDrive/Speech Emotion Recognition/training_mean.npy')\n",
        "_1d_std = np.load('/content/drive/MyDrive/Speech Emotion Recognition/training_std.npy')\n",
        "\n",
        "_2d_mean = np.load('drive/MyDrive/Speech Emotion Recognition/training_spectogram_mean.npy')\n",
        "_2d_std = np.load('drive/MyDrive/Speech Emotion Recognition/training_spectogram_std.npy')\n",
        "\n",
        "for i, filename in zip(range(len(testing_files)),testing_files):\n",
        "  count = count + 1\n",
        "  if count % 100 == 0:\n",
        "    print(count, end=' ')\n",
        "  powers = []\n",
        "  power_max = float('-inf')\n",
        "  power_mean = 0\n",
        "  power_min = float('inf')\n",
        "  power_median = 0\n",
        "  power_range = 0\n",
        "  power_std = 0\n",
        "  power_var = 0\n",
        "\n",
        "  zcrs = []\n",
        "  zcr_max = float('-inf')\n",
        "  zcr_mean = 0\n",
        "  zcr_min = float('inf')\n",
        "  zcr_median = 0\n",
        "  zcr_range = 0\n",
        "  zcr_std = 0\n",
        "  zcr_var = 0\n",
        "\n",
        "  data, fs = librosa.load('/content/drive/MyDrive/Speech Emotion Recognition/Dataset/testing/'+filename, sr=None)\n",
        "\n",
        "  chunk_size = 256\n",
        "  chuggs = [data[x:x+chunk_size] for x in range(0, len(data), chunk_size)]\n",
        "  for chunk in chuggs:\n",
        "    chunk_power = np.mean(np.sum(chunk**2))\n",
        "    powers.append(chunk_power)\n",
        "    if power_max < chunk_power:\n",
        "      power_max = chunk_power\n",
        "    if power_min > chunk_power:\n",
        "      power_min = chunk_power\n",
        "    \n",
        "    chunk_zcr = np.sum(librosa.feature.zero_crossing_rate(chunk, pad=False))\n",
        "    zcrs.append(chunk_zcr)\n",
        "    if zcr_max < chunk_zcr:\n",
        "      zcr_max = chunk_zcr\n",
        "    if zcr_min > chunk_zcr:\n",
        "      zcr_min = chunk_zcr\n",
        "\n",
        "  power_mean = np.mean(powers)\n",
        "  power_median = np.median(powers)\n",
        "  power_range = power_max - power_median\n",
        "  power_std = np.std(powers)\n",
        "  power_var = np.var(powers)\n",
        "\n",
        "  zcr_mean = np.mean(zcrs)\n",
        "  zcr_median = np.median(zcrs)\n",
        "  zcr_range = zcr_max - zcr_min\n",
        "  zcr_std = np.std(zcrs)\n",
        "  zcr_var = np.var(zcrs)\n",
        "\n",
        "  if data.size < 80100:\n",
        "    padding = 80100 - data.size\n",
        "    if padding%2 == 0:\n",
        "      data = np.hstack((data, np.zeros(padding//2)))\n",
        "      data = np.hstack((np.zeros(padding//2), data))\n",
        "    else:\n",
        "      data = np.hstack((data, np.zeros(padding//2)))\n",
        "      data = np.hstack((np.zeros(padding//2 + 1), data))\n",
        "\n",
        "  zeros = np.where(_1d_std == 0)\n",
        "  _1d_std[zeros] = 1\n",
        "  \n",
        "  data = (data-_1d_mean)/_1d_std\n",
        "\n",
        "  sgram = librosa.stft(data)\n",
        "  sgram_mag, _ = librosa.magphase(sgram)\n",
        "  s = librosa.feature.melspectrogram(S=sgram_mag, sr=fs)\n",
        "\n",
        "  s = (s - _2d_mean) / _2d_std \n",
        "  s = s.reshape(-1,157,128,1)\n",
        "  spectograms.append(s)\n",
        "  \n",
        "  label = filename.split('_')[2]\n",
        "\n",
        "  labels.append(label)\n",
        "\n",
        "  if label == 'ANG':\n",
        "    label = 0\n",
        "  elif label == 'DIS':\n",
        "    label = 1\n",
        "  elif label == 'FEA':\n",
        "    label = 2\n",
        "  elif label == 'HAP':\n",
        "    label = 3\n",
        "  elif label == 'NEU':\n",
        "    label = 4\n",
        "  elif label == 'SAD':\n",
        "    label = 5\n",
        "\n",
        "\n",
        "  df_t.loc[i] = {'power_max':power_max,'power_mean':power_mean,'power_min':power_min,\n",
        "               'power_median':power_median,'power_range':power_range,'power_std':power_std,\n",
        "               'power_var':power_var, 'zcr_max':zcr_max, 'zcr_mean':zcr_mean,'zcr_min':zcr_min,\n",
        "               'zcr_median':zcr_median, 'zcr_range':zcr_range, 'zcr_std':zcr_std,\n",
        "               'zcr_var':zcr_var, 'spectogram':s, 'filename':filename,'label':label}\n",
        "\n",
        "df_t = pd.concat(((df_t.drop(columns = ['spectogram', 'filename', 'label']) - mean_aaa) / std_aaa, df_t[['spectogram', 'filename', 'label']]), axis=1)"
      ],
      "execution_count": null,
      "outputs": [
        {
          "output_type": "stream",
          "text": [
            "100 200 300 400 500 600 700 800 900 1000 1100 1200 1300 1400 1500 1600 1700 1800 1900 2000 2100 2200 "
          ],
          "name": "stdout"
        }
      ]
    },
    {
      "cell_type": "code",
      "metadata": {
        "id": "Yaee_fWRlL9L"
      },
      "source": [
        "x1_training = np.asarray(df.drop(columns=['filename', 'label', 'spectogram','zcr_median','power_median','zcr_var','power_var'])).astype('float32').reshape(-1,10,1)\n",
        "x2_training = np.array([x for x in df['spectogram']]).reshape(-1,157,128,1)\n",
        "y_training = np.array(df['label']).astype('int32').reshape((-1,1))\n",
        "\n",
        "x1_validation = np.asarray(df_v.drop(columns=['filename', 'label', 'spectogram','zcr_median','power_median','zcr_var','power_var'])).astype('float32').reshape(-1,10,1)\n",
        "x2_validation = np.array([x for x in df_v['spectogram']]).reshape(-1,157,128,1)\n",
        "y_validation = np.array(df_v['label']).astype('int32').reshape((-1,1))\n",
        "\n",
        "x1_testing = np.asarray(df_t.drop(columns=['filename', 'label', 'spectogram','zcr_median','power_median','zcr_var','power_var'])).astype('float32').reshape(-1,10,1)\n",
        "x2_testing = np.array([x for x in df_t['spectogram']]).reshape(-1,157,128,1)\n",
        "y_testing = np.array(df_t['label']).astype('int32').reshape((-1,1))"
      ],
      "execution_count": null,
      "outputs": []
    },
    {
      "cell_type": "markdown",
      "metadata": {
        "id": "dm78YUWFkgpu"
      },
      "source": [
        "## CNN"
      ]
    },
    {
      "cell_type": "code",
      "metadata": {
        "id": "A0h70xxuldVQ"
      },
      "source": [
        "batch_size = 64\n",
        "epochs = 20\n",
        "num_classes = 6"
      ],
      "execution_count": null,
      "outputs": []
    },
    {
      "cell_type": "markdown",
      "metadata": {
        "id": "b5R2tGgOkieX"
      },
      "source": [
        "### 1D Convolution"
      ]
    },
    {
      "cell_type": "code",
      "metadata": {
        "id": "8KzyH8DakkYL"
      },
      "source": [
        "i = Input(shape=(10,1))\n",
        "x = Dropout(0.2)(i)\n",
        "x = Conv1D(filters=128, kernel_size=3, activation='linear', kernel_regularizer=l2(), bias_regularizer=l2())(x)\n",
        "x = LeakyReLU(alpha=0.1)(x)\n",
        "x = Dropout(0.4)(x)\n",
        "x = Conv1D(filters=256, kernel_size=3, activation='linear', kernel_regularizer=l2(), bias_regularizer=l2())(x)\n",
        "x = LeakyReLU(alpha=0.1)(x)\n",
        "x = MaxPooling1D(pool_size=2)(x)\n",
        "x = Flatten()(x)\n",
        "x = Dropout(0.5)(x)\n",
        "x = Dense(256, activation='linear', kernel_regularizer=l2(), bias_regularizer=l2())(x)\n",
        "x1 = LeakyReLU(alpha=0.1)(x)\n",
        "x = Dense(6, activation='softmax')(x1)\n",
        "\n",
        "x = Model(inputs=[i],outputs=[x])\n",
        "x2 = Model(inputs=[i],outputs=[x1])"
      ],
      "execution_count": null,
      "outputs": []
    },
    {
      "cell_type": "code",
      "metadata": {
        "id": "dmcPxjiBkxxc"
      },
      "source": [
        "x.compile(loss=keras.losses.sparse_categorical_crossentropy, optimizer=keras.optimizers.Adam(),metrics=['accuracy'])"
      ],
      "execution_count": null,
      "outputs": []
    },
    {
      "cell_type": "code",
      "metadata": {
        "colab": {
          "base_uri": "https://localhost:8080/"
        },
        "id": "1bbZZOfPaqxn",
        "outputId": "767ade52-96ed-4968-b8f4-01a69bc17fa5"
      },
      "source": [
        "x.summary()"
      ],
      "execution_count": null,
      "outputs": [
        {
          "output_type": "stream",
          "text": [
            "Model: \"model_34\"\n",
            "_________________________________________________________________\n",
            "Layer (type)                 Output Shape              Param #   \n",
            "=================================================================\n",
            "input_16 (InputLayer)        [(None, 10, 1)]           0         \n",
            "_________________________________________________________________\n",
            "dropout_49 (Dropout)         (None, 10, 1)             0         \n",
            "_________________________________________________________________\n",
            "conv1d_20 (Conv1D)           (None, 8, 128)            512       \n",
            "_________________________________________________________________\n",
            "leaky_re_lu_58 (LeakyReLU)   (None, 8, 128)            0         \n",
            "_________________________________________________________________\n",
            "dropout_50 (Dropout)         (None, 8, 128)            0         \n",
            "_________________________________________________________________\n",
            "conv1d_21 (Conv1D)           (None, 6, 256)            98560     \n",
            "_________________________________________________________________\n",
            "leaky_re_lu_59 (LeakyReLU)   (None, 6, 256)            0         \n",
            "_________________________________________________________________\n",
            "max_pooling1d_10 (MaxPooling (None, 3, 256)            0         \n",
            "_________________________________________________________________\n",
            "flatten_15 (Flatten)         (None, 768)               0         \n",
            "_________________________________________________________________\n",
            "dropout_51 (Dropout)         (None, 768)               0         \n",
            "_________________________________________________________________\n",
            "dense_35 (Dense)             (None, 256)               196864    \n",
            "_________________________________________________________________\n",
            "leaky_re_lu_60 (LeakyReLU)   (None, 256)               0         \n",
            "_________________________________________________________________\n",
            "dense_36 (Dense)             (None, 6)                 1542      \n",
            "=================================================================\n",
            "Total params: 297,478\n",
            "Trainable params: 297,478\n",
            "Non-trainable params: 0\n",
            "_________________________________________________________________\n"
          ],
          "name": "stdout"
        }
      ]
    },
    {
      "cell_type": "code",
      "metadata": {
        "id": "9-i4eFmrlDeY",
        "colab": {
          "base_uri": "https://localhost:8080/"
        },
        "outputId": "105eb7ef-12b6-4cc3-dfae-73a057fc135a"
      },
      "source": [
        "x_history = x.fit(x1_training, y_training, batch_size=batch_size,epochs=200,verbose=1,validation_data=(x1_validation, y_validation))"
      ],
      "execution_count": null,
      "outputs": [
        {
          "output_type": "stream",
          "text": [
            "Epoch 1/200\n",
            "76/76 [==============================] - 2s 9ms/step - loss: 1.6128 - accuracy: 0.3425 - val_loss: 1.6247 - val_accuracy: 0.3506\n",
            "Epoch 2/200\n",
            "76/76 [==============================] - 0s 4ms/step - loss: 1.5949 - accuracy: 0.3569 - val_loss: 1.6561 - val_accuracy: 0.3354\n",
            "Epoch 3/200\n",
            "76/76 [==============================] - 0s 4ms/step - loss: 1.6036 - accuracy: 0.3515 - val_loss: 1.6423 - val_accuracy: 0.3323\n",
            "Epoch 4/200\n",
            "76/76 [==============================] - 0s 4ms/step - loss: 1.5854 - accuracy: 0.3569 - val_loss: 1.6437 - val_accuracy: 0.3537\n",
            "Epoch 5/200\n",
            "76/76 [==============================] - 0s 4ms/step - loss: 1.6059 - accuracy: 0.3533 - val_loss: 1.6378 - val_accuracy: 0.3445\n",
            "Epoch 6/200\n",
            "76/76 [==============================] - 0s 4ms/step - loss: 1.6023 - accuracy: 0.3466 - val_loss: 1.6357 - val_accuracy: 0.3476\n",
            "Epoch 7/200\n",
            "76/76 [==============================] - 0s 4ms/step - loss: 1.6069 - accuracy: 0.3634 - val_loss: 1.6435 - val_accuracy: 0.3079\n",
            "Epoch 8/200\n",
            "76/76 [==============================] - 0s 4ms/step - loss: 1.5859 - accuracy: 0.3613 - val_loss: 1.6671 - val_accuracy: 0.2866\n",
            "Epoch 9/200\n",
            "76/76 [==============================] - 0s 4ms/step - loss: 1.6075 - accuracy: 0.3461 - val_loss: 1.6351 - val_accuracy: 0.3354\n",
            "Epoch 10/200\n",
            "76/76 [==============================] - 0s 4ms/step - loss: 1.6062 - accuracy: 0.3487 - val_loss: 1.6772 - val_accuracy: 0.3232\n",
            "Epoch 11/200\n",
            "76/76 [==============================] - 0s 4ms/step - loss: 1.6152 - accuracy: 0.3407 - val_loss: 1.6227 - val_accuracy: 0.3659\n",
            "Epoch 12/200\n",
            "76/76 [==============================] - 0s 4ms/step - loss: 1.6009 - accuracy: 0.3469 - val_loss: 1.6274 - val_accuracy: 0.3567\n",
            "Epoch 13/200\n",
            "76/76 [==============================] - 0s 4ms/step - loss: 1.5980 - accuracy: 0.3479 - val_loss: 1.6292 - val_accuracy: 0.3384\n",
            "Epoch 14/200\n",
            "76/76 [==============================] - 0s 4ms/step - loss: 1.5988 - accuracy: 0.3407 - val_loss: 1.6364 - val_accuracy: 0.3354\n",
            "Epoch 15/200\n",
            "76/76 [==============================] - 0s 4ms/step - loss: 1.5926 - accuracy: 0.3489 - val_loss: 1.6431 - val_accuracy: 0.3384\n",
            "Epoch 16/200\n",
            "76/76 [==============================] - 0s 4ms/step - loss: 1.5984 - accuracy: 0.3529 - val_loss: 1.6352 - val_accuracy: 0.3720\n",
            "Epoch 17/200\n",
            "76/76 [==============================] - 0s 4ms/step - loss: 1.6128 - accuracy: 0.3551 - val_loss: 1.6354 - val_accuracy: 0.3415\n",
            "Epoch 18/200\n",
            "76/76 [==============================] - 0s 4ms/step - loss: 1.5916 - accuracy: 0.3446 - val_loss: 1.6413 - val_accuracy: 0.3506\n",
            "Epoch 19/200\n",
            "76/76 [==============================] - 0s 4ms/step - loss: 1.5848 - accuracy: 0.3576 - val_loss: 1.6380 - val_accuracy: 0.2896\n",
            "Epoch 20/200\n",
            "76/76 [==============================] - 0s 3ms/step - loss: 1.5971 - accuracy: 0.3405 - val_loss: 1.6502 - val_accuracy: 0.3384\n",
            "Epoch 21/200\n",
            "76/76 [==============================] - 0s 4ms/step - loss: 1.5997 - accuracy: 0.3517 - val_loss: 1.6377 - val_accuracy: 0.3293\n",
            "Epoch 22/200\n",
            "76/76 [==============================] - 0s 4ms/step - loss: 1.5837 - accuracy: 0.3591 - val_loss: 1.6401 - val_accuracy: 0.3415\n",
            "Epoch 23/200\n",
            "76/76 [==============================] - 0s 4ms/step - loss: 1.5817 - accuracy: 0.3593 - val_loss: 1.6544 - val_accuracy: 0.2896\n",
            "Epoch 24/200\n",
            "76/76 [==============================] - 0s 4ms/step - loss: 1.6027 - accuracy: 0.3489 - val_loss: 1.6384 - val_accuracy: 0.3567\n",
            "Epoch 25/200\n",
            "76/76 [==============================] - 0s 4ms/step - loss: 1.5912 - accuracy: 0.3538 - val_loss: 1.6575 - val_accuracy: 0.3018\n",
            "Epoch 26/200\n",
            "76/76 [==============================] - 0s 4ms/step - loss: 1.5913 - accuracy: 0.3557 - val_loss: 1.6320 - val_accuracy: 0.3476\n",
            "Epoch 27/200\n",
            "76/76 [==============================] - 0s 4ms/step - loss: 1.5916 - accuracy: 0.3581 - val_loss: 1.6251 - val_accuracy: 0.3262\n",
            "Epoch 28/200\n",
            "76/76 [==============================] - 0s 4ms/step - loss: 1.5960 - accuracy: 0.3555 - val_loss: 1.6327 - val_accuracy: 0.3445\n",
            "Epoch 29/200\n",
            "76/76 [==============================] - 0s 4ms/step - loss: 1.5846 - accuracy: 0.3563 - val_loss: 1.6841 - val_accuracy: 0.2561\n",
            "Epoch 30/200\n",
            "76/76 [==============================] - 0s 4ms/step - loss: 1.5942 - accuracy: 0.3439 - val_loss: 1.6297 - val_accuracy: 0.3384\n",
            "Epoch 31/200\n",
            "76/76 [==============================] - 0s 4ms/step - loss: 1.5834 - accuracy: 0.3684 - val_loss: 1.6431 - val_accuracy: 0.3384\n",
            "Epoch 32/200\n",
            "76/76 [==============================] - 0s 4ms/step - loss: 1.5942 - accuracy: 0.3551 - val_loss: 1.6233 - val_accuracy: 0.3598\n",
            "Epoch 33/200\n",
            "76/76 [==============================] - 0s 4ms/step - loss: 1.5824 - accuracy: 0.3442 - val_loss: 1.6359 - val_accuracy: 0.3506\n",
            "Epoch 34/200\n",
            "76/76 [==============================] - 0s 4ms/step - loss: 1.6114 - accuracy: 0.3415 - val_loss: 1.6381 - val_accuracy: 0.3445\n",
            "Epoch 35/200\n",
            "76/76 [==============================] - 0s 3ms/step - loss: 1.5921 - accuracy: 0.3565 - val_loss: 1.6416 - val_accuracy: 0.3445\n",
            "Epoch 36/200\n",
            "76/76 [==============================] - 0s 4ms/step - loss: 1.5957 - accuracy: 0.3391 - val_loss: 1.6530 - val_accuracy: 0.3354\n",
            "Epoch 37/200\n",
            "76/76 [==============================] - 0s 4ms/step - loss: 1.6094 - accuracy: 0.3445 - val_loss: 1.6374 - val_accuracy: 0.3354\n",
            "Epoch 38/200\n",
            "76/76 [==============================] - 0s 4ms/step - loss: 1.5847 - accuracy: 0.3451 - val_loss: 1.6343 - val_accuracy: 0.3323\n",
            "Epoch 39/200\n",
            "76/76 [==============================] - 0s 3ms/step - loss: 1.5963 - accuracy: 0.3558 - val_loss: 1.6430 - val_accuracy: 0.3323\n",
            "Epoch 40/200\n",
            "76/76 [==============================] - 0s 4ms/step - loss: 1.5874 - accuracy: 0.3401 - val_loss: 1.6235 - val_accuracy: 0.3506\n",
            "Epoch 41/200\n",
            "76/76 [==============================] - 0s 4ms/step - loss: 1.5937 - accuracy: 0.3502 - val_loss: 1.6402 - val_accuracy: 0.3598\n",
            "Epoch 42/200\n",
            "76/76 [==============================] - 0s 4ms/step - loss: 1.6014 - accuracy: 0.3496 - val_loss: 1.6532 - val_accuracy: 0.2866\n",
            "Epoch 43/200\n",
            "76/76 [==============================] - 1s 9ms/step - loss: 1.5983 - accuracy: 0.3574 - val_loss: 1.6695 - val_accuracy: 0.2744\n",
            "Epoch 44/200\n",
            "76/76 [==============================] - 0s 4ms/step - loss: 1.6140 - accuracy: 0.3332 - val_loss: 1.6506 - val_accuracy: 0.3262\n",
            "Epoch 45/200\n",
            "76/76 [==============================] - 0s 4ms/step - loss: 1.6067 - accuracy: 0.3484 - val_loss: 1.6422 - val_accuracy: 0.3171\n",
            "Epoch 46/200\n",
            "76/76 [==============================] - 0s 4ms/step - loss: 1.6007 - accuracy: 0.3453 - val_loss: 1.6389 - val_accuracy: 0.3598\n",
            "Epoch 47/200\n",
            "76/76 [==============================] - 0s 4ms/step - loss: 1.6151 - accuracy: 0.3351 - val_loss: 1.6374 - val_accuracy: 0.3506\n",
            "Epoch 48/200\n",
            "76/76 [==============================] - 0s 4ms/step - loss: 1.5911 - accuracy: 0.3541 - val_loss: 1.6615 - val_accuracy: 0.3354\n",
            "Epoch 49/200\n",
            "76/76 [==============================] - 0s 4ms/step - loss: 1.5973 - accuracy: 0.3452 - val_loss: 1.6525 - val_accuracy: 0.3232\n",
            "Epoch 50/200\n",
            "76/76 [==============================] - 0s 4ms/step - loss: 1.5781 - accuracy: 0.3593 - val_loss: 1.6575 - val_accuracy: 0.3506\n",
            "Epoch 51/200\n",
            "76/76 [==============================] - 0s 4ms/step - loss: 1.5956 - accuracy: 0.3518 - val_loss: 1.6470 - val_accuracy: 0.3476\n",
            "Epoch 52/200\n",
            "76/76 [==============================] - 0s 4ms/step - loss: 1.5854 - accuracy: 0.3493 - val_loss: 1.6458 - val_accuracy: 0.3201\n",
            "Epoch 53/200\n",
            "76/76 [==============================] - 0s 4ms/step - loss: 1.5963 - accuracy: 0.3458 - val_loss: 1.6376 - val_accuracy: 0.3079\n",
            "Epoch 54/200\n",
            "76/76 [==============================] - 0s 4ms/step - loss: 1.6022 - accuracy: 0.3489 - val_loss: 1.6320 - val_accuracy: 0.3537\n",
            "Epoch 55/200\n",
            "76/76 [==============================] - 0s 4ms/step - loss: 1.5797 - accuracy: 0.3521 - val_loss: 1.6489 - val_accuracy: 0.3201\n",
            "Epoch 56/200\n",
            "76/76 [==============================] - 0s 4ms/step - loss: 1.5923 - accuracy: 0.3524 - val_loss: 1.6359 - val_accuracy: 0.3628\n",
            "Epoch 57/200\n",
            "76/76 [==============================] - 0s 4ms/step - loss: 1.5989 - accuracy: 0.3433 - val_loss: 1.6325 - val_accuracy: 0.3354\n",
            "Epoch 58/200\n",
            "76/76 [==============================] - 0s 4ms/step - loss: 1.5952 - accuracy: 0.3589 - val_loss: 1.6237 - val_accuracy: 0.3628\n",
            "Epoch 59/200\n",
            "76/76 [==============================] - 0s 4ms/step - loss: 1.6043 - accuracy: 0.3410 - val_loss: 1.6511 - val_accuracy: 0.3354\n",
            "Epoch 60/200\n",
            "76/76 [==============================] - 0s 4ms/step - loss: 1.5864 - accuracy: 0.3428 - val_loss: 1.6407 - val_accuracy: 0.3201\n",
            "Epoch 61/200\n",
            "76/76 [==============================] - 0s 3ms/step - loss: 1.5962 - accuracy: 0.3548 - val_loss: 1.6128 - val_accuracy: 0.3415\n",
            "Epoch 62/200\n",
            "76/76 [==============================] - 0s 4ms/step - loss: 1.5965 - accuracy: 0.3531 - val_loss: 1.6328 - val_accuracy: 0.3476\n",
            "Epoch 63/200\n",
            "76/76 [==============================] - 0s 4ms/step - loss: 1.5863 - accuracy: 0.3576 - val_loss: 1.6383 - val_accuracy: 0.3720\n",
            "Epoch 64/200\n",
            "76/76 [==============================] - 0s 4ms/step - loss: 1.6066 - accuracy: 0.3439 - val_loss: 1.6328 - val_accuracy: 0.3567\n",
            "Epoch 65/200\n",
            "76/76 [==============================] - 0s 4ms/step - loss: 1.5895 - accuracy: 0.3473 - val_loss: 1.6291 - val_accuracy: 0.3537\n",
            "Epoch 66/200\n",
            "76/76 [==============================] - 0s 4ms/step - loss: 1.5806 - accuracy: 0.3440 - val_loss: 1.6504 - val_accuracy: 0.3018\n",
            "Epoch 67/200\n",
            "76/76 [==============================] - 0s 4ms/step - loss: 1.5929 - accuracy: 0.3445 - val_loss: 1.6237 - val_accuracy: 0.3628\n",
            "Epoch 68/200\n",
            "76/76 [==============================] - 0s 3ms/step - loss: 1.5931 - accuracy: 0.3555 - val_loss: 1.6272 - val_accuracy: 0.3537\n",
            "Epoch 69/200\n",
            "76/76 [==============================] - 0s 4ms/step - loss: 1.5980 - accuracy: 0.3591 - val_loss: 1.6375 - val_accuracy: 0.3171\n",
            "Epoch 70/200\n",
            "76/76 [==============================] - 0s 4ms/step - loss: 1.5924 - accuracy: 0.3522 - val_loss: 1.6445 - val_accuracy: 0.3079\n",
            "Epoch 71/200\n",
            "76/76 [==============================] - 0s 4ms/step - loss: 1.5818 - accuracy: 0.3555 - val_loss: 1.6643 - val_accuracy: 0.3415\n",
            "Epoch 72/200\n",
            "76/76 [==============================] - 0s 4ms/step - loss: 1.6045 - accuracy: 0.3411 - val_loss: 1.6307 - val_accuracy: 0.3415\n",
            "Epoch 73/200\n",
            "76/76 [==============================] - 0s 4ms/step - loss: 1.5707 - accuracy: 0.3624 - val_loss: 1.6592 - val_accuracy: 0.3140\n",
            "Epoch 74/200\n",
            "76/76 [==============================] - 0s 4ms/step - loss: 1.5768 - accuracy: 0.3572 - val_loss: 1.6547 - val_accuracy: 0.3476\n",
            "Epoch 75/200\n",
            "76/76 [==============================] - 0s 4ms/step - loss: 1.5912 - accuracy: 0.3490 - val_loss: 1.6357 - val_accuracy: 0.3598\n",
            "Epoch 76/200\n",
            "76/76 [==============================] - 0s 4ms/step - loss: 1.5912 - accuracy: 0.3597 - val_loss: 1.6453 - val_accuracy: 0.3354\n",
            "Epoch 77/200\n",
            "76/76 [==============================] - 0s 4ms/step - loss: 1.5881 - accuracy: 0.3546 - val_loss: 1.6225 - val_accuracy: 0.3567\n",
            "Epoch 78/200\n",
            "76/76 [==============================] - 0s 4ms/step - loss: 1.5896 - accuracy: 0.3456 - val_loss: 1.6373 - val_accuracy: 0.3537\n",
            "Epoch 79/200\n",
            "76/76 [==============================] - 0s 4ms/step - loss: 1.5943 - accuracy: 0.3466 - val_loss: 1.6548 - val_accuracy: 0.2988\n",
            "Epoch 80/200\n",
            "76/76 [==============================] - 0s 4ms/step - loss: 1.5902 - accuracy: 0.3535 - val_loss: 1.6169 - val_accuracy: 0.3628\n",
            "Epoch 81/200\n",
            "76/76 [==============================] - 0s 4ms/step - loss: 1.5862 - accuracy: 0.3537 - val_loss: 1.6215 - val_accuracy: 0.3537\n",
            "Epoch 82/200\n",
            "76/76 [==============================] - 0s 4ms/step - loss: 1.5930 - accuracy: 0.3493 - val_loss: 1.6410 - val_accuracy: 0.3110\n",
            "Epoch 83/200\n",
            "76/76 [==============================] - 0s 4ms/step - loss: 1.5974 - accuracy: 0.3577 - val_loss: 1.6346 - val_accuracy: 0.3415\n",
            "Epoch 84/200\n",
            "76/76 [==============================] - 0s 4ms/step - loss: 1.5899 - accuracy: 0.3517 - val_loss: 1.6408 - val_accuracy: 0.3354\n",
            "Epoch 85/200\n",
            "76/76 [==============================] - 0s 4ms/step - loss: 1.5975 - accuracy: 0.3379 - val_loss: 1.6799 - val_accuracy: 0.2622\n",
            "Epoch 86/200\n",
            "76/76 [==============================] - 0s 4ms/step - loss: 1.5971 - accuracy: 0.3497 - val_loss: 1.6271 - val_accuracy: 0.3689\n",
            "Epoch 87/200\n",
            "76/76 [==============================] - 0s 4ms/step - loss: 1.6039 - accuracy: 0.3469 - val_loss: 1.6215 - val_accuracy: 0.3445\n",
            "Epoch 88/200\n",
            "76/76 [==============================] - 0s 4ms/step - loss: 1.5867 - accuracy: 0.3634 - val_loss: 1.6243 - val_accuracy: 0.3659\n",
            "Epoch 89/200\n",
            "76/76 [==============================] - 0s 4ms/step - loss: 1.5779 - accuracy: 0.3640 - val_loss: 1.6582 - val_accuracy: 0.2866\n",
            "Epoch 90/200\n",
            "76/76 [==============================] - 0s 4ms/step - loss: 1.5834 - accuracy: 0.3463 - val_loss: 1.6514 - val_accuracy: 0.3232\n",
            "Epoch 91/200\n",
            "76/76 [==============================] - 0s 4ms/step - loss: 1.6002 - accuracy: 0.3375 - val_loss: 1.6305 - val_accuracy: 0.3415\n",
            "Epoch 92/200\n",
            "76/76 [==============================] - 0s 4ms/step - loss: 1.5989 - accuracy: 0.3497 - val_loss: 1.6392 - val_accuracy: 0.3415\n",
            "Epoch 93/200\n",
            "76/76 [==============================] - 0s 4ms/step - loss: 1.5921 - accuracy: 0.3566 - val_loss: 1.6467 - val_accuracy: 0.3079\n",
            "Epoch 94/200\n",
            "76/76 [==============================] - 0s 4ms/step - loss: 1.5838 - accuracy: 0.3494 - val_loss: 1.6351 - val_accuracy: 0.3354\n",
            "Epoch 95/200\n",
            "76/76 [==============================] - 0s 4ms/step - loss: 1.6000 - accuracy: 0.3391 - val_loss: 1.6355 - val_accuracy: 0.3201\n",
            "Epoch 96/200\n",
            "76/76 [==============================] - 0s 4ms/step - loss: 1.5982 - accuracy: 0.3482 - val_loss: 1.6236 - val_accuracy: 0.3506\n",
            "Epoch 97/200\n",
            "76/76 [==============================] - 0s 4ms/step - loss: 1.5974 - accuracy: 0.3456 - val_loss: 1.6294 - val_accuracy: 0.3415\n",
            "Epoch 98/200\n",
            "76/76 [==============================] - 0s 4ms/step - loss: 1.5990 - accuracy: 0.3477 - val_loss: 1.6403 - val_accuracy: 0.3323\n",
            "Epoch 99/200\n",
            "76/76 [==============================] - 0s 4ms/step - loss: 1.5932 - accuracy: 0.3528 - val_loss: 1.6357 - val_accuracy: 0.3598\n",
            "Epoch 100/200\n",
            "76/76 [==============================] - 0s 4ms/step - loss: 1.5917 - accuracy: 0.3617 - val_loss: 1.6350 - val_accuracy: 0.3506\n",
            "Epoch 101/200\n",
            "76/76 [==============================] - 0s 4ms/step - loss: 1.5885 - accuracy: 0.3605 - val_loss: 1.6216 - val_accuracy: 0.3354\n",
            "Epoch 102/200\n",
            "76/76 [==============================] - 0s 4ms/step - loss: 1.5870 - accuracy: 0.3532 - val_loss: 1.6295 - val_accuracy: 0.3415\n",
            "Epoch 103/200\n",
            "76/76 [==============================] - 0s 4ms/step - loss: 1.5992 - accuracy: 0.3333 - val_loss: 1.6323 - val_accuracy: 0.3537\n",
            "Epoch 104/200\n",
            "76/76 [==============================] - 0s 4ms/step - loss: 1.5843 - accuracy: 0.3571 - val_loss: 1.6390 - val_accuracy: 0.3415\n",
            "Epoch 105/200\n",
            "76/76 [==============================] - 0s 4ms/step - loss: 1.5871 - accuracy: 0.3578 - val_loss: 1.6225 - val_accuracy: 0.3506\n",
            "Epoch 106/200\n",
            "76/76 [==============================] - 0s 4ms/step - loss: 1.5967 - accuracy: 0.3479 - val_loss: 1.6310 - val_accuracy: 0.3476\n",
            "Epoch 107/200\n",
            "76/76 [==============================] - 0s 4ms/step - loss: 1.5789 - accuracy: 0.3652 - val_loss: 1.6298 - val_accuracy: 0.3445\n",
            "Epoch 108/200\n",
            "76/76 [==============================] - 0s 4ms/step - loss: 1.5788 - accuracy: 0.3620 - val_loss: 1.6270 - val_accuracy: 0.3415\n",
            "Epoch 109/200\n",
            "76/76 [==============================] - 0s 4ms/step - loss: 1.5766 - accuracy: 0.3564 - val_loss: 1.6424 - val_accuracy: 0.3262\n",
            "Epoch 110/200\n",
            "76/76 [==============================] - 0s 4ms/step - loss: 1.6016 - accuracy: 0.3434 - val_loss: 1.6182 - val_accuracy: 0.3445\n",
            "Epoch 111/200\n",
            "76/76 [==============================] - 0s 4ms/step - loss: 1.6003 - accuracy: 0.3554 - val_loss: 1.6441 - val_accuracy: 0.3262\n",
            "Epoch 112/200\n",
            "76/76 [==============================] - 0s 4ms/step - loss: 1.5868 - accuracy: 0.3463 - val_loss: 1.6179 - val_accuracy: 0.3476\n",
            "Epoch 113/200\n",
            "76/76 [==============================] - 0s 4ms/step - loss: 1.6167 - accuracy: 0.3490 - val_loss: 1.6391 - val_accuracy: 0.3384\n",
            "Epoch 114/200\n",
            "76/76 [==============================] - 0s 4ms/step - loss: 1.5957 - accuracy: 0.3462 - val_loss: 1.6443 - val_accuracy: 0.3445\n",
            "Epoch 115/200\n",
            "76/76 [==============================] - 0s 4ms/step - loss: 1.5978 - accuracy: 0.3370 - val_loss: 1.6304 - val_accuracy: 0.3445\n",
            "Epoch 116/200\n",
            "76/76 [==============================] - 0s 4ms/step - loss: 1.5824 - accuracy: 0.3504 - val_loss: 1.6330 - val_accuracy: 0.3476\n",
            "Epoch 117/200\n",
            "76/76 [==============================] - 0s 4ms/step - loss: 1.5987 - accuracy: 0.3575 - val_loss: 1.6286 - val_accuracy: 0.3476\n",
            "Epoch 118/200\n",
            "76/76 [==============================] - 0s 4ms/step - loss: 1.6027 - accuracy: 0.3415 - val_loss: 1.6108 - val_accuracy: 0.3445\n",
            "Epoch 119/200\n",
            "76/76 [==============================] - 0s 4ms/step - loss: 1.5856 - accuracy: 0.3524 - val_loss: 1.6227 - val_accuracy: 0.3567\n",
            "Epoch 120/200\n",
            "76/76 [==============================] - 0s 4ms/step - loss: 1.6064 - accuracy: 0.3413 - val_loss: 1.6280 - val_accuracy: 0.3384\n",
            "Epoch 121/200\n",
            "76/76 [==============================] - 0s 4ms/step - loss: 1.5780 - accuracy: 0.3600 - val_loss: 1.6327 - val_accuracy: 0.3323\n",
            "Epoch 122/200\n",
            "76/76 [==============================] - 0s 4ms/step - loss: 1.5888 - accuracy: 0.3541 - val_loss: 1.6357 - val_accuracy: 0.3476\n",
            "Epoch 123/200\n",
            "76/76 [==============================] - 0s 4ms/step - loss: 1.5869 - accuracy: 0.3454 - val_loss: 1.6591 - val_accuracy: 0.2866\n",
            "Epoch 124/200\n",
            "76/76 [==============================] - 0s 4ms/step - loss: 1.5934 - accuracy: 0.3575 - val_loss: 1.6663 - val_accuracy: 0.2805\n",
            "Epoch 125/200\n",
            "76/76 [==============================] - 0s 4ms/step - loss: 1.6046 - accuracy: 0.3469 - val_loss: 1.6290 - val_accuracy: 0.3506\n",
            "Epoch 126/200\n",
            "76/76 [==============================] - 0s 4ms/step - loss: 1.5883 - accuracy: 0.3500 - val_loss: 1.6392 - val_accuracy: 0.3506\n",
            "Epoch 127/200\n",
            "76/76 [==============================] - 0s 4ms/step - loss: 1.6021 - accuracy: 0.3546 - val_loss: 1.6416 - val_accuracy: 0.3354\n",
            "Epoch 128/200\n",
            "76/76 [==============================] - 0s 4ms/step - loss: 1.5941 - accuracy: 0.3567 - val_loss: 1.6486 - val_accuracy: 0.3445\n",
            "Epoch 129/200\n",
            "76/76 [==============================] - 0s 4ms/step - loss: 1.5860 - accuracy: 0.3538 - val_loss: 1.6451 - val_accuracy: 0.3323\n",
            "Epoch 130/200\n",
            "76/76 [==============================] - 0s 4ms/step - loss: 1.6043 - accuracy: 0.3529 - val_loss: 1.6163 - val_accuracy: 0.3537\n",
            "Epoch 131/200\n",
            "76/76 [==============================] - 0s 4ms/step - loss: 1.5851 - accuracy: 0.3649 - val_loss: 1.6186 - val_accuracy: 0.3628\n",
            "Epoch 132/200\n",
            "76/76 [==============================] - 0s 4ms/step - loss: 1.5804 - accuracy: 0.3625 - val_loss: 1.6239 - val_accuracy: 0.3567\n",
            "Epoch 133/200\n",
            "76/76 [==============================] - 0s 4ms/step - loss: 1.5864 - accuracy: 0.3648 - val_loss: 1.6915 - val_accuracy: 0.2988\n",
            "Epoch 134/200\n",
            "76/76 [==============================] - 0s 4ms/step - loss: 1.5967 - accuracy: 0.3580 - val_loss: 1.6450 - val_accuracy: 0.3537\n",
            "Epoch 135/200\n",
            "76/76 [==============================] - 0s 4ms/step - loss: 1.5955 - accuracy: 0.3430 - val_loss: 1.6332 - val_accuracy: 0.3354\n",
            "Epoch 136/200\n",
            "76/76 [==============================] - 0s 4ms/step - loss: 1.6073 - accuracy: 0.3339 - val_loss: 1.6255 - val_accuracy: 0.3445\n",
            "Epoch 137/200\n",
            "76/76 [==============================] - 0s 4ms/step - loss: 1.5933 - accuracy: 0.3419 - val_loss: 1.6281 - val_accuracy: 0.3567\n",
            "Epoch 138/200\n",
            "76/76 [==============================] - 0s 4ms/step - loss: 1.6028 - accuracy: 0.3431 - val_loss: 1.6158 - val_accuracy: 0.3476\n",
            "Epoch 139/200\n",
            "76/76 [==============================] - 0s 4ms/step - loss: 1.5799 - accuracy: 0.3605 - val_loss: 1.6426 - val_accuracy: 0.3201\n",
            "Epoch 140/200\n",
            "76/76 [==============================] - 0s 4ms/step - loss: 1.5854 - accuracy: 0.3544 - val_loss: 1.6319 - val_accuracy: 0.3445\n",
            "Epoch 141/200\n",
            "76/76 [==============================] - 0s 4ms/step - loss: 1.5800 - accuracy: 0.3625 - val_loss: 1.6357 - val_accuracy: 0.3445\n",
            "Epoch 142/200\n",
            "76/76 [==============================] - 0s 4ms/step - loss: 1.5865 - accuracy: 0.3504 - val_loss: 1.6510 - val_accuracy: 0.3293\n",
            "Epoch 143/200\n",
            "76/76 [==============================] - 0s 4ms/step - loss: 1.5876 - accuracy: 0.3430 - val_loss: 1.6319 - val_accuracy: 0.3323\n",
            "Epoch 144/200\n",
            "76/76 [==============================] - 0s 4ms/step - loss: 1.5755 - accuracy: 0.3590 - val_loss: 1.6322 - val_accuracy: 0.3354\n",
            "Epoch 145/200\n",
            "76/76 [==============================] - 0s 4ms/step - loss: 1.5900 - accuracy: 0.3515 - val_loss: 1.6857 - val_accuracy: 0.3049\n",
            "Epoch 146/200\n",
            "76/76 [==============================] - 0s 4ms/step - loss: 1.5743 - accuracy: 0.3474 - val_loss: 1.6419 - val_accuracy: 0.3262\n",
            "Epoch 147/200\n",
            "76/76 [==============================] - 0s 4ms/step - loss: 1.5862 - accuracy: 0.3428 - val_loss: 1.6381 - val_accuracy: 0.3171\n",
            "Epoch 148/200\n",
            "76/76 [==============================] - 0s 4ms/step - loss: 1.5837 - accuracy: 0.3558 - val_loss: 1.6246 - val_accuracy: 0.3354\n",
            "Epoch 149/200\n",
            "76/76 [==============================] - 0s 4ms/step - loss: 1.5983 - accuracy: 0.3426 - val_loss: 1.6438 - val_accuracy: 0.3323\n",
            "Epoch 150/200\n",
            "76/76 [==============================] - 0s 4ms/step - loss: 1.5851 - accuracy: 0.3573 - val_loss: 1.6364 - val_accuracy: 0.3720\n",
            "Epoch 151/200\n",
            "76/76 [==============================] - 0s 4ms/step - loss: 1.5872 - accuracy: 0.3491 - val_loss: 1.6246 - val_accuracy: 0.3476\n",
            "Epoch 152/200\n",
            "76/76 [==============================] - 0s 4ms/step - loss: 1.5878 - accuracy: 0.3446 - val_loss: 1.6232 - val_accuracy: 0.3476\n",
            "Epoch 153/200\n",
            "76/76 [==============================] - 0s 4ms/step - loss: 1.6020 - accuracy: 0.3399 - val_loss: 1.6174 - val_accuracy: 0.3567\n",
            "Epoch 154/200\n",
            "76/76 [==============================] - 0s 4ms/step - loss: 1.5875 - accuracy: 0.3495 - val_loss: 1.6367 - val_accuracy: 0.3445\n",
            "Epoch 155/200\n",
            "76/76 [==============================] - 0s 4ms/step - loss: 1.5867 - accuracy: 0.3587 - val_loss: 1.6503 - val_accuracy: 0.3476\n",
            "Epoch 156/200\n",
            "76/76 [==============================] - 0s 4ms/step - loss: 1.5973 - accuracy: 0.3379 - val_loss: 1.6446 - val_accuracy: 0.3018\n",
            "Epoch 157/200\n",
            "76/76 [==============================] - 0s 4ms/step - loss: 1.5866 - accuracy: 0.3595 - val_loss: 1.6327 - val_accuracy: 0.3293\n",
            "Epoch 158/200\n",
            "76/76 [==============================] - 0s 4ms/step - loss: 1.5947 - accuracy: 0.3572 - val_loss: 1.6522 - val_accuracy: 0.3171\n",
            "Epoch 159/200\n",
            "76/76 [==============================] - 0s 4ms/step - loss: 1.5948 - accuracy: 0.3407 - val_loss: 1.6214 - val_accuracy: 0.3537\n",
            "Epoch 160/200\n",
            "76/76 [==============================] - 0s 4ms/step - loss: 1.5957 - accuracy: 0.3533 - val_loss: 1.7054 - val_accuracy: 0.2744\n",
            "Epoch 161/200\n",
            "76/76 [==============================] - 0s 4ms/step - loss: 1.5921 - accuracy: 0.3464 - val_loss: 1.6498 - val_accuracy: 0.3079\n",
            "Epoch 162/200\n",
            "76/76 [==============================] - 0s 4ms/step - loss: 1.5870 - accuracy: 0.3490 - val_loss: 1.6433 - val_accuracy: 0.3445\n",
            "Epoch 163/200\n",
            "76/76 [==============================] - 0s 4ms/step - loss: 1.6026 - accuracy: 0.3461 - val_loss: 1.6185 - val_accuracy: 0.3689\n",
            "Epoch 164/200\n",
            "76/76 [==============================] - 0s 4ms/step - loss: 1.5905 - accuracy: 0.3448 - val_loss: 1.6555 - val_accuracy: 0.3110\n",
            "Epoch 165/200\n",
            "76/76 [==============================] - 0s 4ms/step - loss: 1.5767 - accuracy: 0.3562 - val_loss: 1.6207 - val_accuracy: 0.3415\n",
            "Epoch 166/200\n",
            "76/76 [==============================] - 0s 4ms/step - loss: 1.5912 - accuracy: 0.3601 - val_loss: 1.6346 - val_accuracy: 0.3445\n",
            "Epoch 167/200\n",
            "76/76 [==============================] - 0s 4ms/step - loss: 1.5768 - accuracy: 0.3558 - val_loss: 1.6461 - val_accuracy: 0.3384\n",
            "Epoch 168/200\n",
            "76/76 [==============================] - 0s 4ms/step - loss: 1.5848 - accuracy: 0.3423 - val_loss: 1.6274 - val_accuracy: 0.3476\n",
            "Epoch 169/200\n",
            "76/76 [==============================] - 0s 4ms/step - loss: 1.5989 - accuracy: 0.3442 - val_loss: 1.6429 - val_accuracy: 0.3506\n",
            "Epoch 170/200\n",
            "76/76 [==============================] - 0s 4ms/step - loss: 1.5867 - accuracy: 0.3429 - val_loss: 1.6396 - val_accuracy: 0.3537\n",
            "Epoch 171/200\n",
            "76/76 [==============================] - 0s 4ms/step - loss: 1.5853 - accuracy: 0.3501 - val_loss: 1.6512 - val_accuracy: 0.2988\n",
            "Epoch 172/200\n",
            "76/76 [==============================] - 0s 4ms/step - loss: 1.5962 - accuracy: 0.3523 - val_loss: 1.6377 - val_accuracy: 0.3537\n",
            "Epoch 173/200\n",
            "76/76 [==============================] - 0s 4ms/step - loss: 1.5899 - accuracy: 0.3483 - val_loss: 1.6485 - val_accuracy: 0.3415\n",
            "Epoch 174/200\n",
            "76/76 [==============================] - 0s 4ms/step - loss: 1.5951 - accuracy: 0.3549 - val_loss: 1.6487 - val_accuracy: 0.2957\n",
            "Epoch 175/200\n",
            "76/76 [==============================] - 0s 4ms/step - loss: 1.5867 - accuracy: 0.3559 - val_loss: 1.6546 - val_accuracy: 0.3140\n",
            "Epoch 176/200\n",
            "76/76 [==============================] - 0s 4ms/step - loss: 1.5980 - accuracy: 0.3407 - val_loss: 1.6405 - val_accuracy: 0.3323\n",
            "Epoch 177/200\n",
            "76/76 [==============================] - 0s 4ms/step - loss: 1.5963 - accuracy: 0.3439 - val_loss: 1.6434 - val_accuracy: 0.3537\n",
            "Epoch 178/200\n",
            "76/76 [==============================] - 0s 4ms/step - loss: 1.5843 - accuracy: 0.3613 - val_loss: 1.6274 - val_accuracy: 0.3476\n",
            "Epoch 179/200\n",
            "76/76 [==============================] - 0s 4ms/step - loss: 1.5810 - accuracy: 0.3533 - val_loss: 1.6600 - val_accuracy: 0.2530\n",
            "Epoch 180/200\n",
            "76/76 [==============================] - 0s 4ms/step - loss: 1.5802 - accuracy: 0.3517 - val_loss: 1.6273 - val_accuracy: 0.3445\n",
            "Epoch 181/200\n",
            "76/76 [==============================] - 0s 4ms/step - loss: 1.5903 - accuracy: 0.3585 - val_loss: 1.6351 - val_accuracy: 0.3445\n",
            "Epoch 182/200\n",
            "76/76 [==============================] - 0s 4ms/step - loss: 1.5922 - accuracy: 0.3463 - val_loss: 1.6294 - val_accuracy: 0.3476\n",
            "Epoch 183/200\n",
            "76/76 [==============================] - 0s 4ms/step - loss: 1.5841 - accuracy: 0.3553 - val_loss: 1.6273 - val_accuracy: 0.3445\n",
            "Epoch 184/200\n",
            "76/76 [==============================] - 0s 4ms/step - loss: 1.5967 - accuracy: 0.3523 - val_loss: 1.6359 - val_accuracy: 0.3506\n",
            "Epoch 185/200\n",
            "76/76 [==============================] - 0s 4ms/step - loss: 1.5851 - accuracy: 0.3554 - val_loss: 1.6440 - val_accuracy: 0.3506\n",
            "Epoch 186/200\n",
            "76/76 [==============================] - 0s 4ms/step - loss: 1.5988 - accuracy: 0.3484 - val_loss: 1.6497 - val_accuracy: 0.3293\n",
            "Epoch 187/200\n",
            "76/76 [==============================] - 0s 4ms/step - loss: 1.5789 - accuracy: 0.3587 - val_loss: 1.6281 - val_accuracy: 0.3354\n",
            "Epoch 188/200\n",
            "76/76 [==============================] - 0s 4ms/step - loss: 1.5841 - accuracy: 0.3645 - val_loss: 1.6652 - val_accuracy: 0.3293\n",
            "Epoch 189/200\n",
            "76/76 [==============================] - 0s 4ms/step - loss: 1.6043 - accuracy: 0.3428 - val_loss: 1.6391 - val_accuracy: 0.3384\n",
            "Epoch 190/200\n",
            "76/76 [==============================] - 0s 4ms/step - loss: 1.5780 - accuracy: 0.3607 - val_loss: 1.6176 - val_accuracy: 0.3384\n",
            "Epoch 191/200\n",
            "76/76 [==============================] - 0s 4ms/step - loss: 1.5738 - accuracy: 0.3491 - val_loss: 1.6408 - val_accuracy: 0.3384\n",
            "Epoch 192/200\n",
            "76/76 [==============================] - 0s 4ms/step - loss: 1.5936 - accuracy: 0.3513 - val_loss: 1.6584 - val_accuracy: 0.2835\n",
            "Epoch 193/200\n",
            "76/76 [==============================] - 0s 4ms/step - loss: 1.6119 - accuracy: 0.3337 - val_loss: 1.6598 - val_accuracy: 0.3201\n",
            "Epoch 194/200\n",
            "76/76 [==============================] - 0s 4ms/step - loss: 1.6018 - accuracy: 0.3464 - val_loss: 1.6279 - val_accuracy: 0.3476\n",
            "Epoch 195/200\n",
            "76/76 [==============================] - 0s 4ms/step - loss: 1.5923 - accuracy: 0.3642 - val_loss: 1.6448 - val_accuracy: 0.3171\n",
            "Epoch 196/200\n",
            "76/76 [==============================] - 0s 4ms/step - loss: 1.6021 - accuracy: 0.3454 - val_loss: 1.6662 - val_accuracy: 0.3262\n",
            "Epoch 197/200\n",
            "76/76 [==============================] - 0s 4ms/step - loss: 1.5900 - accuracy: 0.3529 - val_loss: 1.6343 - val_accuracy: 0.3506\n",
            "Epoch 198/200\n",
            "76/76 [==============================] - 0s 4ms/step - loss: 1.5895 - accuracy: 0.3579 - val_loss: 1.6394 - val_accuracy: 0.3476\n",
            "Epoch 199/200\n",
            "76/76 [==============================] - 0s 4ms/step - loss: 1.5902 - accuracy: 0.3454 - val_loss: 1.6147 - val_accuracy: 0.3537\n",
            "Epoch 200/200\n",
            "76/76 [==============================] - 0s 4ms/step - loss: 1.5669 - accuracy: 0.3660 - val_loss: 1.6120 - val_accuracy: 0.3567\n"
          ],
          "name": "stdout"
        }
      ]
    },
    {
      "cell_type": "code",
      "metadata": {
        "colab": {
          "base_uri": "https://localhost:8080/",
          "height": 545
        },
        "id": "almO5KGGmH6X",
        "outputId": "273521f4-5933-4749-d498-976cc99d0d68"
      },
      "source": [
        "accuracy = x_history.history['accuracy']\n",
        "val_accuracy = x_history.history['val_accuracy']\n",
        "loss = x_history.history['loss']\n",
        "val_loss = x_history.history['val_loss']\n",
        "epochs = range(len(accuracy))\n",
        "plt.plot(epochs, accuracy, 'bo', label='Training accuracy')\n",
        "plt.plot(epochs, val_accuracy, 'b', label='Validation accuracy')\n",
        "plt.title('Training and validation accuracy')\n",
        "plt.legend()\n",
        "plt.figure()\n",
        "plt.plot(epochs, loss, 'bo', label='Training loss')\n",
        "plt.plot(epochs, val_loss, 'b', label='Validation loss')\n",
        "plt.title('Training and validation loss')\n",
        "plt.legend()\n",
        "plt.show()"
      ],
      "execution_count": null,
      "outputs": [
        {
          "output_type": "display_data",
          "data": {
            "image/png": "[encoded data removed]",
            "text/plain": [
              "<Figure size 432x288 with 1 Axes>"
            ]
          },
          "metadata": {
            "tags": [],
            "needs_background": "light"
          }
        },
        {
          "output_type": "display_data",
          "data": {
            "image/png": "[encoded data removed]",
            "text/plain": [
              "<Figure size 432x288 with 1 Axes>"
            ]
          },
          "metadata": {
            "tags": [],
            "needs_background": "light"
          }
        }
      ]
    },
    {
      "cell_type": "markdown",
      "metadata": {
        "id": "xdTVbo2Bmenq"
      },
      "source": [
        "### 2D Convolution "
      ]
    },
    {
      "cell_type": "code",
      "metadata": {
        "id": "vDitOGPLmTZH"
      },
      "source": [
        "i1 = Input(shape=(157,128,1))\n",
        "c1 = Conv2D(32, kernel_size=(3, 3),activation='linear',padding='same')(i1)\n",
        "a1 = LeakyReLU(alpha=0.1)(c1)\n",
        "p1 = MaxPooling2D((2, 2),padding='same')(a1)\n",
        "\n",
        "d1 = Dropout(0.5)(p1)\n",
        "c2 = Conv2D(64, (3, 3), activation='linear',padding='same')(d1)\n",
        "a2 = LeakyReLU(alpha=0.1)(c2)\n",
        "p2 = MaxPooling2D(pool_size=(2, 2),padding='same')(a2)\n",
        "\n",
        "d2 = Dropout(0.5)(p2)\n",
        "c3 = Conv2D(128, (3, 3), activation='linear',padding='same')(d2)\n",
        "a3 = LeakyReLU(alpha=0.1)(c3)\n",
        "p3 = MaxPooling2D(pool_size=(2, 2),padding='same')(a3)\n",
        "\n",
        "d3 = Dropout(0.7)(p2)\n",
        "c4 = Conv2D(256, (3, 3), activation='linear',padding='same')(d3)\n",
        "a4 = LeakyReLU(alpha=0.1)(c3)\n",
        "p4 = MaxPooling2D(pool_size=(2, 2),padding='same')(a4)\n",
        "\n",
        "f1 = Flatten()(p4)\n",
        "\n",
        "d5 = Dropout(0.7)(f1)\n",
        "a5 = LeakyReLU(alpha=0.1)(d5)\n",
        "fc1 = Dense(256, activation='linear')(a5)\n",
        "fc2 = Dense(num_classes, activation='softmax')(fc1)\n",
        "\n",
        "fashion_model = Model(inputs=[i1],outputs=[fc2])\n",
        "\n",
        "\n",
        "y = Model(inputs=[i1],outputs=[fc2])\n",
        "y2 = Model(inputs=[i1], outputs=[a5])"
      ],
      "execution_count": null,
      "outputs": []
    },
    {
      "cell_type": "code",
      "metadata": {
        "id": "Cn5skAoVmwFD"
      },
      "source": [
        "y.compile(loss=keras.losses.sparse_categorical_crossentropy, optimizer=keras.optimizers.Adam(),metrics=['accuracy'])"
      ],
      "execution_count": null,
      "outputs": []
    },
    {
      "cell_type": "code",
      "metadata": {
        "colab": {
          "base_uri": "https://localhost:8080/"
        },
        "id": "cvoe2nSea_5j",
        "outputId": "8426ef61-ee33-4b18-a30e-6f437ff1b72d"
      },
      "source": [
        "y.summary()"
      ],
      "execution_count": null,
      "outputs": [
        {
          "output_type": "stream",
          "text": [
            "Model: \"model_12\"\n",
            "_________________________________________________________________\n",
            "Layer (type)                 Output Shape              Param #   \n",
            "=================================================================\n",
            "input_6 (InputLayer)         [(None, 157, 128, 1)]     0         \n",
            "_________________________________________________________________\n",
            "conv2d_16 (Conv2D)           (None, 157, 128, 32)      320       \n",
            "_________________________________________________________________\n",
            "leaky_re_lu_24 (LeakyReLU)   (None, 157, 128, 32)      0         \n",
            "_________________________________________________________________\n",
            "max_pooling2d_16 (MaxPooling (None, 79, 64, 32)        0         \n",
            "_________________________________________________________________\n",
            "dropout_18 (Dropout)         (None, 79, 64, 32)        0         \n",
            "_________________________________________________________________\n",
            "conv2d_17 (Conv2D)           (None, 79, 64, 64)        18496     \n",
            "_________________________________________________________________\n",
            "leaky_re_lu_25 (LeakyReLU)   (None, 79, 64, 64)        0         \n",
            "_________________________________________________________________\n",
            "max_pooling2d_17 (MaxPooling (None, 40, 32, 64)        0         \n",
            "_________________________________________________________________\n",
            "dropout_19 (Dropout)         (None, 40, 32, 64)        0         \n",
            "_________________________________________________________________\n",
            "conv2d_18 (Conv2D)           (None, 40, 32, 128)       73856     \n",
            "_________________________________________________________________\n",
            "leaky_re_lu_27 (LeakyReLU)   (None, 40, 32, 128)       0         \n",
            "_________________________________________________________________\n",
            "max_pooling2d_19 (MaxPooling (None, 20, 16, 128)       0         \n",
            "_________________________________________________________________\n",
            "flatten_5 (Flatten)          (None, 40960)             0         \n",
            "_________________________________________________________________\n",
            "dropout_21 (Dropout)         (None, 40960)             0         \n",
            "_________________________________________________________________\n",
            "leaky_re_lu_28 (LeakyReLU)   (None, 40960)             0         \n",
            "_________________________________________________________________\n",
            "dense_11 (Dense)             (None, 256)               10486016  \n",
            "_________________________________________________________________\n",
            "dense_12 (Dense)             (None, 6)                 1542      \n",
            "=================================================================\n",
            "Total params: 10,580,230\n",
            "Trainable params: 10,580,230\n",
            "Non-trainable params: 0\n",
            "_________________________________________________________________\n"
          ],
          "name": "stdout"
        }
      ]
    },
    {
      "cell_type": "code",
      "metadata": {
        "id": "pVCjZzaGmdpD",
        "colab": {
          "base_uri": "https://localhost:8080/"
        },
        "outputId": "90483273-b942-4c04-cc3f-abe891b814d9"
      },
      "source": [
        "y_history = y.fit(x2_training, y_training, batch_size=batch_size,epochs=50,verbose=1,validation_data=(x2_validation, y_validation))"
      ],
      "execution_count": null,
      "outputs": [
        {
          "output_type": "stream",
          "text": [
            "Epoch 1/50\n",
            "76/76 [==============================] - 5s 54ms/step - loss: 6.4586 - accuracy: 0.1984 - val_loss: 1.9299 - val_accuracy: 0.2012\n",
            "Epoch 2/50\n",
            "76/76 [==============================] - 4s 49ms/step - loss: 1.6719 - accuracy: 0.3011 - val_loss: 2.1510 - val_accuracy: 0.2348\n",
            "Epoch 3/50\n",
            "76/76 [==============================] - 4s 49ms/step - loss: 1.6124 - accuracy: 0.3498 - val_loss: 2.1613 - val_accuracy: 0.2165\n",
            "Epoch 4/50\n",
            "76/76 [==============================] - 4s 49ms/step - loss: 1.5806 - accuracy: 0.3603 - val_loss: 2.6933 - val_accuracy: 0.2530\n",
            "Epoch 5/50\n",
            "76/76 [==============================] - 4s 49ms/step - loss: 1.4970 - accuracy: 0.3897 - val_loss: 1.8611 - val_accuracy: 0.3354\n",
            "Epoch 6/50\n",
            "76/76 [==============================] - 4s 49ms/step - loss: 1.4835 - accuracy: 0.3837 - val_loss: 1.7476 - val_accuracy: 0.3994\n",
            "Epoch 7/50\n",
            "76/76 [==============================] - 4s 49ms/step - loss: 1.4531 - accuracy: 0.4208 - val_loss: 2.1387 - val_accuracy: 0.3537\n",
            "Epoch 8/50\n",
            "76/76 [==============================] - 4s 49ms/step - loss: 1.4326 - accuracy: 0.4185 - val_loss: 2.6304 - val_accuracy: 0.2957\n",
            "Epoch 9/50\n",
            "76/76 [==============================] - 4s 49ms/step - loss: 1.4406 - accuracy: 0.4261 - val_loss: 1.7881 - val_accuracy: 0.2957\n",
            "Epoch 10/50\n",
            "76/76 [==============================] - 4s 49ms/step - loss: 1.4027 - accuracy: 0.4316 - val_loss: 2.1307 - val_accuracy: 0.3506\n",
            "Epoch 11/50\n",
            "76/76 [==============================] - 4s 49ms/step - loss: 1.3796 - accuracy: 0.4493 - val_loss: 1.7489 - val_accuracy: 0.3780\n",
            "Epoch 12/50\n",
            "76/76 [==============================] - 4s 48ms/step - loss: 1.3571 - accuracy: 0.4665 - val_loss: 1.7313 - val_accuracy: 0.4238\n",
            "Epoch 13/50\n",
            "76/76 [==============================] - 4s 49ms/step - loss: 1.3121 - accuracy: 0.4768 - val_loss: 1.8097 - val_accuracy: 0.3811\n",
            "Epoch 14/50\n",
            "76/76 [==============================] - 4s 48ms/step - loss: 1.3212 - accuracy: 0.4878 - val_loss: 1.7521 - val_accuracy: 0.4146\n",
            "Epoch 15/50\n",
            "76/76 [==============================] - 4s 48ms/step - loss: 1.3229 - accuracy: 0.4667 - val_loss: 1.7981 - val_accuracy: 0.4360\n",
            "Epoch 16/50\n",
            "76/76 [==============================] - 4s 49ms/step - loss: 1.2826 - accuracy: 0.4883 - val_loss: 1.6108 - val_accuracy: 0.4238\n",
            "Epoch 17/50\n",
            "76/76 [==============================] - 4s 48ms/step - loss: 1.2950 - accuracy: 0.4908 - val_loss: 1.9989 - val_accuracy: 0.4177\n",
            "Epoch 18/50\n",
            "76/76 [==============================] - 4s 48ms/step - loss: 1.2761 - accuracy: 0.4900 - val_loss: 1.9783 - val_accuracy: 0.3750\n",
            "Epoch 19/50\n",
            "76/76 [==============================] - 4s 48ms/step - loss: 1.2646 - accuracy: 0.5024 - val_loss: 1.7372 - val_accuracy: 0.3902\n",
            "Epoch 20/50\n",
            "76/76 [==============================] - 4s 48ms/step - loss: 1.2582 - accuracy: 0.5004 - val_loss: 2.0720 - val_accuracy: 0.3933\n",
            "Epoch 21/50\n",
            "76/76 [==============================] - 4s 48ms/step - loss: 1.2463 - accuracy: 0.5109 - val_loss: 1.8903 - val_accuracy: 0.4055\n",
            "Epoch 22/50\n",
            "76/76 [==============================] - 4s 48ms/step - loss: 1.2237 - accuracy: 0.5265 - val_loss: 1.6258 - val_accuracy: 0.4085\n",
            "Epoch 23/50\n",
            "76/76 [==============================] - 4s 49ms/step - loss: 1.2074 - accuracy: 0.5257 - val_loss: 1.7946 - val_accuracy: 0.4055\n",
            "Epoch 24/50\n",
            "76/76 [==============================] - 4s 49ms/step - loss: 1.1677 - accuracy: 0.5369 - val_loss: 1.8134 - val_accuracy: 0.4116\n",
            "Epoch 25/50\n",
            "76/76 [==============================] - 4s 49ms/step - loss: 1.1786 - accuracy: 0.5362 - val_loss: 1.5789 - val_accuracy: 0.4268\n",
            "Epoch 26/50\n",
            "76/76 [==============================] - 4s 49ms/step - loss: 1.1558 - accuracy: 0.5395 - val_loss: 1.4459 - val_accuracy: 0.4878\n",
            "Epoch 27/50\n",
            "76/76 [==============================] - 4s 49ms/step - loss: 1.1597 - accuracy: 0.5503 - val_loss: 1.5260 - val_accuracy: 0.4634\n",
            "Epoch 28/50\n",
            "76/76 [==============================] - 4s 49ms/step - loss: 1.1491 - accuracy: 0.5487 - val_loss: 1.5970 - val_accuracy: 0.4665\n",
            "Epoch 29/50\n",
            "76/76 [==============================] - 4s 49ms/step - loss: 1.1280 - accuracy: 0.5522 - val_loss: 1.5258 - val_accuracy: 0.4482\n",
            "Epoch 30/50\n",
            "76/76 [==============================] - 4s 49ms/step - loss: 1.1123 - accuracy: 0.5724 - val_loss: 1.7577 - val_accuracy: 0.4177\n",
            "Epoch 31/50\n",
            "76/76 [==============================] - 4s 48ms/step - loss: 1.1146 - accuracy: 0.5609 - val_loss: 1.5960 - val_accuracy: 0.4207\n",
            "Epoch 32/50\n",
            "76/76 [==============================] - 4s 48ms/step - loss: 1.0773 - accuracy: 0.5712 - val_loss: 1.5961 - val_accuracy: 0.4604\n",
            "Epoch 33/50\n",
            "76/76 [==============================] - 4s 49ms/step - loss: 1.0587 - accuracy: 0.5843 - val_loss: 1.5720 - val_accuracy: 0.4634\n",
            "Epoch 34/50\n",
            "76/76 [==============================] - 4s 48ms/step - loss: 1.0704 - accuracy: 0.5972 - val_loss: 1.5872 - val_accuracy: 0.4512\n",
            "Epoch 35/50\n",
            "76/76 [==============================] - 4s 48ms/step - loss: 1.0307 - accuracy: 0.6068 - val_loss: 1.7139 - val_accuracy: 0.4116\n",
            "Epoch 36/50\n",
            "76/76 [==============================] - 4s 49ms/step - loss: 1.0369 - accuracy: 0.6106 - val_loss: 1.7437 - val_accuracy: 0.4390\n",
            "Epoch 37/50\n",
            "76/76 [==============================] - 4s 49ms/step - loss: 1.0281 - accuracy: 0.5956 - val_loss: 1.5696 - val_accuracy: 0.4787\n",
            "Epoch 38/50\n",
            "76/76 [==============================] - 4s 49ms/step - loss: 1.0209 - accuracy: 0.6062 - val_loss: 1.5937 - val_accuracy: 0.4451\n",
            "Epoch 39/50\n",
            "76/76 [==============================] - 4s 49ms/step - loss: 1.0126 - accuracy: 0.6055 - val_loss: 1.6232 - val_accuracy: 0.4329\n",
            "Epoch 40/50\n",
            "76/76 [==============================] - 4s 49ms/step - loss: 0.9905 - accuracy: 0.6162 - val_loss: 1.5447 - val_accuracy: 0.4573\n",
            "Epoch 41/50\n",
            "76/76 [==============================] - 4s 48ms/step - loss: 0.9769 - accuracy: 0.6307 - val_loss: 1.5928 - val_accuracy: 0.4665\n",
            "Epoch 42/50\n",
            "76/76 [==============================] - 4s 49ms/step - loss: 0.9747 - accuracy: 0.6083 - val_loss: 1.6490 - val_accuracy: 0.4573\n",
            "Epoch 43/50\n",
            "76/76 [==============================] - 4s 49ms/step - loss: 0.9341 - accuracy: 0.6470 - val_loss: 1.5553 - val_accuracy: 0.4695\n",
            "Epoch 44/50\n",
            "76/76 [==============================] - 4s 48ms/step - loss: 0.9561 - accuracy: 0.6340 - val_loss: 1.5247 - val_accuracy: 0.4848\n",
            "Epoch 45/50\n",
            "76/76 [==============================] - 4s 49ms/step - loss: 0.9045 - accuracy: 0.6502 - val_loss: 1.5984 - val_accuracy: 0.4756\n",
            "Epoch 46/50\n",
            "76/76 [==============================] - 4s 48ms/step - loss: 0.9188 - accuracy: 0.6509 - val_loss: 1.4827 - val_accuracy: 0.4756\n",
            "Epoch 47/50\n",
            "76/76 [==============================] - 4s 48ms/step - loss: 0.9393 - accuracy: 0.6358 - val_loss: 1.6034 - val_accuracy: 0.4848\n",
            "Epoch 48/50\n",
            "76/76 [==============================] - 4s 49ms/step - loss: 0.9293 - accuracy: 0.6522 - val_loss: 1.7778 - val_accuracy: 0.4482\n",
            "Epoch 49/50\n",
            "76/76 [==============================] - 4s 49ms/step - loss: 0.8897 - accuracy: 0.6562 - val_loss: 1.5955 - val_accuracy: 0.4909\n",
            "Epoch 50/50\n",
            "76/76 [==============================] - 4s 49ms/step - loss: 0.8905 - accuracy: 0.6643 - val_loss: 1.7453 - val_accuracy: 0.4604\n"
          ],
          "name": "stdout"
        }
      ]
    },
    {
      "cell_type": "code",
      "metadata": {
        "colab": {
          "base_uri": "https://localhost:8080/",
          "height": 545
        },
        "id": "FFhNpgbanpwb",
        "outputId": "5e789316-45e7-4c17-9ab5-449d83e397b6"
      },
      "source": [
        "accuracy = y_history.history['accuracy']\n",
        "val_accuracy = y_history.history['val_accuracy']\n",
        "loss = y_history.history['loss']\n",
        "val_loss = y_history.history['val_loss']\n",
        "epochs = range(len(accuracy))\n",
        "plt.plot(epochs, accuracy, 'bo', label='Training accuracy')\n",
        "plt.plot(epochs, val_accuracy, 'b', label='Validation accuracy')\n",
        "plt.title('Training and validation accuracy')\n",
        "plt.legend()\n",
        "plt.figure()\n",
        "plt.plot(epochs, loss, 'bo', label='Training loss')\n",
        "plt.plot(epochs, val_loss, 'b', label='Validation loss')\n",
        "plt.title('Training and validation loss')\n",
        "plt.legend()\n",
        "plt.show()"
      ],
      "execution_count": null,
      "outputs": [
        {
          "output_type": "display_data",
          "data": {
            "image/png": "[encoded data removed]",
            "text/plain": [
              "<Figure size 432x288 with 1 Axes>"
            ]
          },
          "metadata": {
            "tags": [],
            "needs_background": "light"
          }
        },
        {
          "output_type": "display_data",
          "data": {
            "image/png": "[encoded data removed]",
            "text/plain": [
              "<Figure size 432x288 with 1 Axes>"
            ]
          },
          "metadata": {
            "tags": [],
            "needs_background": "light"
          }
        }
      ]
    },
    {
      "cell_type": "markdown",
      "metadata": {
        "id": "BcHHNshAn_rs"
      },
      "source": [
        "### Combined Model"
      ]
    },
    {
      "cell_type": "code",
      "metadata": {
        "id": "vLA9CUt1oDjF"
      },
      "source": [
        "combined = concatenate([x2.output, y2.output])\n",
        "\n",
        "z = Dense(128, kernel_regularizer=l2(), bias_regularizer=l2())(combined)\n",
        "z = LeakyReLU(alpha=0.1)(z)\n",
        "z = Dense(num_classes, activation='softmax')(z)\n",
        "\n",
        "model = Model(inputs=[x2.input, y2.input], outputs=z)"
      ],
      "execution_count": null,
      "outputs": []
    },
    {
      "cell_type": "code",
      "metadata": {
        "id": "rac6_k16oNXK"
      },
      "source": [
        "model.compile(loss=keras.losses.sparse_categorical_crossentropy, optimizer=keras.optimizers.Adam(learning_rate=0.001),metrics=['accuracy'])"
      ],
      "execution_count": null,
      "outputs": []
    },
    {
      "cell_type": "code",
      "metadata": {
        "colab": {
          "base_uri": "https://localhost:8080/"
        },
        "id": "Dq7iOqHdbM-P",
        "outputId": "aa3c22e0-c223-4db8-bbca-c34989227e53"
      },
      "source": [
        "model.summary()"
      ],
      "execution_count": null,
      "outputs": [
        {
          "output_type": "stream",
          "text": [
            "Model: \"model_16\"\n",
            "__________________________________________________________________________________________________\n",
            "Layer (type)                    Output Shape         Param #     Connected to                     \n",
            "==================================================================================================\n",
            "input_6 (InputLayer)            [(None, 157, 128, 1) 0                                            \n",
            "__________________________________________________________________________________________________\n",
            "conv2d_16 (Conv2D)              (None, 157, 128, 32) 320         input_6[0][0]                    \n",
            "__________________________________________________________________________________________________\n",
            "leaky_re_lu_24 (LeakyReLU)      (None, 157, 128, 32) 0           conv2d_16[0][0]                  \n",
            "__________________________________________________________________________________________________\n",
            "input_7 (InputLayer)            [(None, 14, 1)]      0                                            \n",
            "__________________________________________________________________________________________________\n",
            "max_pooling2d_16 (MaxPooling2D) (None, 79, 64, 32)   0           leaky_re_lu_24[0][0]             \n",
            "__________________________________________________________________________________________________\n",
            "dropout_22 (Dropout)            (None, 14, 1)        0           input_7[0][0]                    \n",
            "__________________________________________________________________________________________________\n",
            "dropout_18 (Dropout)            (None, 79, 64, 32)   0           max_pooling2d_16[0][0]           \n",
            "__________________________________________________________________________________________________\n",
            "conv1d_2 (Conv1D)               (None, 12, 128)      512         dropout_22[0][0]                 \n",
            "__________________________________________________________________________________________________\n",
            "conv2d_17 (Conv2D)              (None, 79, 64, 64)   18496       dropout_18[0][0]                 \n",
            "__________________________________________________________________________________________________\n",
            "leaky_re_lu_29 (LeakyReLU)      (None, 12, 128)      0           conv1d_2[0][0]                   \n",
            "__________________________________________________________________________________________________\n",
            "leaky_re_lu_25 (LeakyReLU)      (None, 79, 64, 64)   0           conv2d_17[0][0]                  \n",
            "__________________________________________________________________________________________________\n",
            "dropout_23 (Dropout)            (None, 12, 128)      0           leaky_re_lu_29[0][0]             \n",
            "__________________________________________________________________________________________________\n",
            "max_pooling2d_17 (MaxPooling2D) (None, 40, 32, 64)   0           leaky_re_lu_25[0][0]             \n",
            "__________________________________________________________________________________________________\n",
            "conv1d_3 (Conv1D)               (None, 10, 256)      98560       dropout_23[0][0]                 \n",
            "__________________________________________________________________________________________________\n",
            "dropout_19 (Dropout)            (None, 40, 32, 64)   0           max_pooling2d_17[0][0]           \n",
            "__________________________________________________________________________________________________\n",
            "leaky_re_lu_30 (LeakyReLU)      (None, 10, 256)      0           conv1d_3[0][0]                   \n",
            "__________________________________________________________________________________________________\n",
            "conv2d_18 (Conv2D)              (None, 40, 32, 128)  73856       dropout_19[0][0]                 \n",
            "__________________________________________________________________________________________________\n",
            "max_pooling1d_1 (MaxPooling1D)  (None, 5, 256)       0           leaky_re_lu_30[0][0]             \n",
            "__________________________________________________________________________________________________\n",
            "leaky_re_lu_27 (LeakyReLU)      (None, 40, 32, 128)  0           conv2d_18[0][0]                  \n",
            "__________________________________________________________________________________________________\n",
            "flatten_6 (Flatten)             (None, 1280)         0           max_pooling1d_1[0][0]            \n",
            "__________________________________________________________________________________________________\n",
            "max_pooling2d_19 (MaxPooling2D) (None, 20, 16, 128)  0           leaky_re_lu_27[0][0]             \n",
            "__________________________________________________________________________________________________\n",
            "dropout_24 (Dropout)            (None, 1280)         0           flatten_6[0][0]                  \n",
            "__________________________________________________________________________________________________\n",
            "flatten_5 (Flatten)             (None, 40960)        0           max_pooling2d_19[0][0]           \n",
            "__________________________________________________________________________________________________\n",
            "dense_13 (Dense)                (None, 256)          327936      dropout_24[0][0]                 \n",
            "__________________________________________________________________________________________________\n",
            "dropout_21 (Dropout)            (None, 40960)        0           flatten_5[0][0]                  \n",
            "__________________________________________________________________________________________________\n",
            "leaky_re_lu_31 (LeakyReLU)      (None, 256)          0           dense_13[0][0]                   \n",
            "__________________________________________________________________________________________________\n",
            "leaky_re_lu_28 (LeakyReLU)      (None, 40960)        0           dropout_21[0][0]                 \n",
            "__________________________________________________________________________________________________\n",
            "concatenate_1 (Concatenate)     (None, 41216)        0           leaky_re_lu_31[0][0]             \n",
            "                                                                 leaky_re_lu_28[0][0]             \n",
            "__________________________________________________________________________________________________\n",
            "dense_15 (Dense)                (None, 128)          5275776     concatenate_1[0][0]              \n",
            "__________________________________________________________________________________________________\n",
            "leaky_re_lu_32 (LeakyReLU)      (None, 128)          0           dense_15[0][0]                   \n",
            "__________________________________________________________________________________________________\n",
            "dense_16 (Dense)                (None, 6)            774         leaky_re_lu_32[0][0]             \n",
            "==================================================================================================\n",
            "Total params: 5,796,230\n",
            "Trainable params: 5,796,230\n",
            "Non-trainable params: 0\n",
            "__________________________________________________________________________________________________\n"
          ],
          "name": "stdout"
        }
      ]
    },
    {
      "cell_type": "code",
      "metadata": {
        "colab": {
          "base_uri": "https://localhost:8080/"
        },
        "id": "bn0trDVtoTs3",
        "outputId": "7a957467-600a-4b2f-9a51-7a18b11a0fdc"
      },
      "source": [
        "model_history = model.fit(x=[x1_training,x2_training], y=y_training, batch_size=batch_size,epochs=30,verbose=1,validation_data=([x1_validation, x2_validation], y_validation))"
      ],
      "execution_count": null,
      "outputs": [
        {
          "output_type": "stream",
          "text": [
            "Epoch 1/30\n",
            "76/76 [==============================] - 6s 59ms/step - loss: 3.0202 - accuracy: 0.4125 - val_loss: 2.1888 - val_accuracy: 0.4695\n",
            "Epoch 2/30\n",
            "76/76 [==============================] - 4s 50ms/step - loss: 1.9925 - accuracy: 0.5328 - val_loss: 2.1572 - val_accuracy: 0.4848\n",
            "Epoch 3/30\n",
            "76/76 [==============================] - 4s 50ms/step - loss: 2.0378 - accuracy: 0.5651 - val_loss: 2.3376 - val_accuracy: 0.4726\n",
            "Epoch 4/30\n",
            "76/76 [==============================] - 4s 50ms/step - loss: 2.0523 - accuracy: 0.5453 - val_loss: 2.2608 - val_accuracy: 0.4756\n",
            "Epoch 5/30\n",
            "76/76 [==============================] - 4s 51ms/step - loss: 1.9913 - accuracy: 0.5833 - val_loss: 2.3309 - val_accuracy: 0.4817\n",
            "Epoch 6/30\n",
            "76/76 [==============================] - 4s 50ms/step - loss: 2.0024 - accuracy: 0.5673 - val_loss: 2.2205 - val_accuracy: 0.5274\n",
            "Epoch 7/30\n",
            "76/76 [==============================] - 4s 51ms/step - loss: 1.9950 - accuracy: 0.5901 - val_loss: 2.3175 - val_accuracy: 0.4939\n",
            "Epoch 8/30\n",
            "76/76 [==============================] - 4s 50ms/step - loss: 2.0489 - accuracy: 0.5879 - val_loss: 2.3295 - val_accuracy: 0.5061\n",
            "Epoch 9/30\n",
            "76/76 [==============================] - 4s 50ms/step - loss: 1.9868 - accuracy: 0.5938 - val_loss: 2.2416 - val_accuracy: 0.4909\n",
            "Epoch 10/30\n",
            "76/76 [==============================] - 4s 50ms/step - loss: 1.9589 - accuracy: 0.5966 - val_loss: 2.2793 - val_accuracy: 0.4970\n",
            "Epoch 11/30\n",
            "76/76 [==============================] - 4s 50ms/step - loss: 1.9648 - accuracy: 0.5937 - val_loss: 2.3277 - val_accuracy: 0.5061\n",
            "Epoch 12/30\n",
            "76/76 [==============================] - 4s 50ms/step - loss: 1.9867 - accuracy: 0.5985 - val_loss: 2.2212 - val_accuracy: 0.5183\n",
            "Epoch 13/30\n",
            "76/76 [==============================] - 4s 50ms/step - loss: 1.9563 - accuracy: 0.6040 - val_loss: 2.2302 - val_accuracy: 0.5366\n",
            "Epoch 14/30\n",
            "76/76 [==============================] - 4s 49ms/step - loss: 1.9413 - accuracy: 0.6160 - val_loss: 2.2939 - val_accuracy: 0.5091\n",
            "Epoch 15/30\n",
            "76/76 [==============================] - 4s 49ms/step - loss: 1.8980 - accuracy: 0.6284 - val_loss: 2.2936 - val_accuracy: 0.5091\n",
            "Epoch 16/30\n",
            "76/76 [==============================] - 4s 50ms/step - loss: 1.9679 - accuracy: 0.6075 - val_loss: 2.4096 - val_accuracy: 0.4939\n",
            "Epoch 17/30\n",
            "76/76 [==============================] - 4s 50ms/step - loss: 1.9415 - accuracy: 0.6206 - val_loss: 2.3269 - val_accuracy: 0.4970\n",
            "Epoch 18/30\n",
            "76/76 [==============================] - 4s 49ms/step - loss: 1.9010 - accuracy: 0.6206 - val_loss: 2.3401 - val_accuracy: 0.4543\n",
            "Epoch 19/30\n",
            "76/76 [==============================] - 4s 50ms/step - loss: 1.8539 - accuracy: 0.6271 - val_loss: 2.3594 - val_accuracy: 0.4848\n",
            "Epoch 20/30\n",
            "76/76 [==============================] - 4s 50ms/step - loss: 1.9503 - accuracy: 0.6057 - val_loss: 2.2897 - val_accuracy: 0.5091\n",
            "Epoch 21/30\n",
            "76/76 [==============================] - 4s 50ms/step - loss: 1.9538 - accuracy: 0.6231 - val_loss: 2.2824 - val_accuracy: 0.4970\n",
            "Epoch 22/30\n",
            "76/76 [==============================] - 4s 50ms/step - loss: 1.8867 - accuracy: 0.6365 - val_loss: 2.2272 - val_accuracy: 0.5213\n",
            "Epoch 23/30\n",
            "76/76 [==============================] - 4s 50ms/step - loss: 1.8458 - accuracy: 0.6243 - val_loss: 2.2764 - val_accuracy: 0.5061\n",
            "Epoch 24/30\n",
            "76/76 [==============================] - 4s 50ms/step - loss: 1.8733 - accuracy: 0.6293 - val_loss: 2.2567 - val_accuracy: 0.5061\n",
            "Epoch 25/30\n",
            "76/76 [==============================] - 4s 50ms/step - loss: 1.9088 - accuracy: 0.6368 - val_loss: 2.2434 - val_accuracy: 0.5122\n",
            "Epoch 26/30\n",
            "76/76 [==============================] - 4s 50ms/step - loss: 1.7935 - accuracy: 0.6524 - val_loss: 2.4937 - val_accuracy: 0.4817\n",
            "Epoch 27/30\n",
            "76/76 [==============================] - 4s 50ms/step - loss: 1.8355 - accuracy: 0.6476 - val_loss: 2.4550 - val_accuracy: 0.4695\n",
            "Epoch 28/30\n",
            "76/76 [==============================] - 4s 50ms/step - loss: 1.8587 - accuracy: 0.6487 - val_loss: 2.3830 - val_accuracy: 0.4756\n",
            "Epoch 29/30\n",
            "76/76 [==============================] - 4s 50ms/step - loss: 1.8083 - accuracy: 0.6549 - val_loss: 2.3316 - val_accuracy: 0.4970\n",
            "Epoch 30/30\n",
            "76/76 [==============================] - 4s 50ms/step - loss: 1.8836 - accuracy: 0.6402 - val_loss: 2.2956 - val_accuracy: 0.4939\n"
          ],
          "name": "stdout"
        }
      ]
    },
    {
      "cell_type": "code",
      "metadata": {
        "colab": {
          "base_uri": "https://localhost:8080/",
          "height": 545
        },
        "id": "JU2FzLiopmWu",
        "outputId": "10eb9b3f-c446-40bc-c28a-f5f20ea425aa"
      },
      "source": [
        "accuracy = model_history.history['accuracy']\n",
        "val_accuracy = model_history.history['val_accuracy']\n",
        "loss = model_history.history['loss']\n",
        "val_loss = model_history.history['val_loss']\n",
        "epochs = range(len(accuracy))\n",
        "plt.plot(epochs, accuracy, 'bo', label='Training accuracy')\n",
        "plt.plot(epochs, val_accuracy, 'b', label='Validation accuracy')\n",
        "plt.title('Training and validation accuracy')\n",
        "plt.legend()\n",
        "plt.figure()\n",
        "plt.plot(epochs, loss, 'bo', label='Training loss')\n",
        "plt.plot(epochs, val_loss, 'b', label='Validation loss')\n",
        "plt.title('Training and validation loss')\n",
        "plt.legend()\n",
        "plt.show()"
      ],
      "execution_count": null,
      "outputs": [
        {
          "output_type": "display_data",
          "data": {
            "image/png": "[encoded data removed]",
            "text/plain": [
              "<Figure size 432x288 with 1 Axes>"
            ]
          },
          "metadata": {
            "tags": [],
            "needs_background": "light"
          }
        },
        {
          "output_type": "display_data",
          "data": {
            "image/png": "[encoded data removed]",
            "text/plain": [
              "<Figure size 432x288 with 1 Axes>"
            ]
          },
          "metadata": {
            "tags": [],
            "needs_background": "light"
          }
        }
      ]
    },
    {
      "cell_type": "markdown",
      "metadata": {
        "id": "CIrA1LDWrM6G"
      },
      "source": [
        "### Testing and Evaluation\n"
      ]
    },
    {
      "cell_type": "code",
      "metadata": {
        "id": "VvmOz5pmu4H5"
      },
      "source": [
        "from sklearn.metrics import accuracy_score,f1_score,confusion_matrix"
      ],
      "execution_count": null,
      "outputs": []
    },
    {
      "cell_type": "markdown",
      "metadata": {
        "id": "IrDIaSKaczz7"
      },
      "source": [
        "#### 1D CNN"
      ]
    },
    {
      "cell_type": "code",
      "metadata": {
        "colab": {
          "base_uri": "https://localhost:8080/"
        },
        "id": "p3adZ7BJc2fN",
        "outputId": "9e0df5ac-7431-44fe-df7b-eb1a598d3f52"
      },
      "source": [
        "y_prob = x.predict(x=x1_testing, batch_size=64, verbose=1)"
      ],
      "execution_count": null,
      "outputs": [
        {
          "output_type": "stream",
          "text": [
            "36/36 [==============================] - 0s 1ms/step\n"
          ],
          "name": "stdout"
        }
      ]
    },
    {
      "cell_type": "code",
      "metadata": {
        "colab": {
          "base_uri": "https://localhost:8080/"
        },
        "id": "eOVQUlnyc9fC",
        "outputId": "28b26a99-b46e-4121-b415-e3e2b13e3d1f"
      },
      "source": [
        "y_pred = np.zeros(y_prob.shape[0])\n",
        "for i in range(y_prob.shape[0]):\n",
        "  y_pred[i]=np.argmax(y_prob[i])\n",
        "y_pred = np.int32(y_pred)\n",
        "y_pred"
      ],
      "execution_count": null,
      "outputs": [
        {
          "output_type": "execute_result",
          "data": {
            "text/plain": [
              "array([3, 0, 3, ..., 1, 3, 3], dtype=int32)"
            ]
          },
          "metadata": {
            "tags": []
          },
          "execution_count": 241
        }
      ]
    },
    {
      "cell_type": "code",
      "metadata": {
        "colab": {
          "base_uri": "https://localhost:8080/"
        },
        "id": "4RmuGsRCdEfc",
        "outputId": "e902c4e8-3de2-4392-ad0e-689b90ff587e"
      },
      "source": [
        "accuracy_score(y_testing,y_pred)"
      ],
      "execution_count": null,
      "outputs": [
        {
          "output_type": "execute_result",
          "data": {
            "text/plain": [
              "0.36375545851528385"
            ]
          },
          "metadata": {
            "tags": []
          },
          "execution_count": 242
        }
      ]
    },
    {
      "cell_type": "code",
      "metadata": {
        "colab": {
          "base_uri": "https://localhost:8080/"
        },
        "id": "w2yJGE0XdHE4",
        "outputId": "dce07de9-aa50-4150-d240-17c5bfb75d42"
      },
      "source": [
        "f1_score(y_testing,y_pred, average='macro')"
      ],
      "execution_count": null,
      "outputs": [
        {
          "output_type": "execute_result",
          "data": {
            "text/plain": [
              "0.31840294111387446"
            ]
          },
          "metadata": {
            "tags": []
          },
          "execution_count": 243
        }
      ]
    },
    {
      "cell_type": "code",
      "metadata": {
        "colab": {
          "base_uri": "https://localhost:8080/",
          "height": 265
        },
        "id": "OY5oZ65BdSGs",
        "outputId": "d1119767-8776-466b-f8a0-fa14546028ae"
      },
      "source": [
        "a = confusion_matrix(y_testing,y_pred)\n",
        "lbls =['ANG', 'DIS','FEA', 'HAP','NEU', 'SAD']\n",
        "\n",
        "fig, ax = plt.subplots()\n",
        "im = ax.imshow(a, cmap='hot', interpolation='nearest')\n",
        "ax.set_xticks(range(6))\n",
        "ax.set_xticklabels(lbls, rotation='horizontal')\n",
        "ax.set_yticks(range(6))\n",
        "ax.set_yticklabels(lbls, rotation='horizontal')\n",
        "\n",
        "plt.colorbar(im)\n",
        "\n",
        "plt.show()"
      ],
      "execution_count": null,
      "outputs": [
        {
          "output_type": "display_data",
          "data": {
            "image/png": "[encoded data removed]",
            "text/plain": [
              "<Figure size 432x288 with 2 Axes>"
            ]
          },
          "metadata": {
            "tags": [],
            "needs_background": "light"
          }
        }
      ]
    },
    {
      "cell_type": "markdown",
      "metadata": {
        "id": "IcHuHUkpc1dl"
      },
      "source": [
        "#### 2D CNN"
      ]
    },
    {
      "cell_type": "code",
      "metadata": {
        "colab": {
          "base_uri": "https://localhost:8080/"
        },
        "id": "dTesBixpdVbP",
        "outputId": "48b0c840-8e28-4c5e-8420-04399b05b8d5"
      },
      "source": [
        "y_prob = y.predict(x=x2_testing, batch_size=64, verbose=1)"
      ],
      "execution_count": null,
      "outputs": [
        {
          "output_type": "stream",
          "text": [
            "36/36 [==============================] - 1s 17ms/step\n"
          ],
          "name": "stdout"
        }
      ]
    },
    {
      "cell_type": "code",
      "metadata": {
        "colab": {
          "base_uri": "https://localhost:8080/"
        },
        "id": "uElRdbUNdtVP",
        "outputId": "7084431c-1eb3-44dd-9589-97d6c71f5c31"
      },
      "source": [
        "y_pred = np.zeros(y_prob.shape[0])\n",
        "for i in range(y_prob.shape[0]):\n",
        "  y_pred[i]=np.argmax(y_prob[i])\n",
        "y_pred = np.int32(y_pred)\n",
        "y_pred"
      ],
      "execution_count": null,
      "outputs": [
        {
          "output_type": "execute_result",
          "data": {
            "text/plain": [
              "array([4, 3, 1, ..., 2, 3, 3], dtype=int32)"
            ]
          },
          "metadata": {
            "tags": []
          },
          "execution_count": 191
        }
      ]
    },
    {
      "cell_type": "code",
      "metadata": {
        "colab": {
          "base_uri": "https://localhost:8080/"
        },
        "id": "Pc0C1KFbdvJ_",
        "outputId": "c778c49a-27be-44bb-e5f9-b395f1a78f14"
      },
      "source": [
        "accuracy_score(y_testing,y_pred)"
      ],
      "execution_count": null,
      "outputs": [
        {
          "output_type": "execute_result",
          "data": {
            "text/plain": [
              "0.46943231441048033"
            ]
          },
          "metadata": {
            "tags": []
          },
          "execution_count": 192
        }
      ]
    },
    {
      "cell_type": "code",
      "metadata": {
        "colab": {
          "base_uri": "https://localhost:8080/"
        },
        "id": "bVGYZlPxdxX4",
        "outputId": "3aec4fad-bdc0-4b6c-e302-cc9a976e6605"
      },
      "source": [
        "f1_score(y_testing,y_pred, average='macro')"
      ],
      "execution_count": null,
      "outputs": [
        {
          "output_type": "execute_result",
          "data": {
            "text/plain": [
              "0.45136286459303115"
            ]
          },
          "metadata": {
            "tags": []
          },
          "execution_count": 193
        }
      ]
    },
    {
      "cell_type": "code",
      "metadata": {
        "colab": {
          "base_uri": "https://localhost:8080/",
          "height": 265
        },
        "id": "cEr1XVqOd1Di",
        "outputId": "428b8987-5157-4d9e-e08b-2ee87fe7f278"
      },
      "source": [
        "a = confusion_matrix(y_testing,y_pred)\n",
        "lbls =['ANG', 'DIS','FEA', 'HAP','NEU', 'SAD']\n",
        "\n",
        "fig, ax = plt.subplots()\n",
        "im = ax.imshow(a, cmap='hot', interpolation='nearest')\n",
        "ax.set_xticks(range(6))\n",
        "ax.set_xticklabels(lbls, rotation='horizontal')\n",
        "ax.set_yticks(range(6))\n",
        "ax.set_yticklabels(lbls, rotation='horizontal')\n",
        "\n",
        "plt.colorbar(im)\n",
        "\n",
        "plt.show()"
      ],
      "execution_count": null,
      "outputs": [
        {
          "output_type": "display_data",
          "data": {
            "image/png": "[encoded data removed]",
            "text/plain": [
              "<Figure size 432x288 with 2 Axes>"
            ]
          },
          "metadata": {
            "tags": [],
            "needs_background": "light"
          }
        }
      ]
    },
    {
      "cell_type": "markdown",
      "metadata": {
        "id": "aF1UrK3OcyWv"
      },
      "source": [
        "#### Combined"
      ]
    },
    {
      "cell_type": "code",
      "metadata": {
        "colab": {
          "base_uri": "https://localhost:8080/"
        },
        "id": "sSoSx9vJrQnw",
        "outputId": "aea67a21-9b8a-4b65-9562-b0153e84c6bc"
      },
      "source": [
        "y_prob = model.predict(x=[x1_testing, x2_testing], batch_size=64, verbose=1)"
      ],
      "execution_count": null,
      "outputs": [
        {
          "output_type": "stream",
          "text": [
            "36/36 [==============================] - 1s 18ms/step\n"
          ],
          "name": "stdout"
        }
      ]
    },
    {
      "cell_type": "code",
      "metadata": {
        "colab": {
          "base_uri": "https://localhost:8080/"
        },
        "id": "f3Drjk2UvdPK",
        "outputId": "4327774e-89db-41ba-9cac-ca96db2825e9"
      },
      "source": [
        "y_pred = np.zeros(y_prob.shape[0])\n",
        "for i in range(y_prob.shape[0]):\n",
        "  y_pred[i]=np.argmax(y_prob[i])\n",
        "y_pred = np.int32(y_pred)\n",
        "y_pred"
      ],
      "execution_count": null,
      "outputs": [
        {
          "output_type": "execute_result",
          "data": {
            "text/plain": [
              "array([4, 0, 1, ..., 4, 3, 4], dtype=int32)"
            ]
          },
          "metadata": {
            "tags": []
          },
          "execution_count": 202
        }
      ]
    },
    {
      "cell_type": "code",
      "metadata": {
        "colab": {
          "base_uri": "https://localhost:8080/"
        },
        "id": "8vtXISHQuzdJ",
        "outputId": "013aed89-5b82-4853-dfc7-133cb4dfe874"
      },
      "source": [
        "accuracy_score(y_testing,y_pred)"
      ],
      "execution_count": null,
      "outputs": [
        {
          "output_type": "execute_result",
          "data": {
            "text/plain": [
              "0.5004366812227075"
            ]
          },
          "metadata": {
            "tags": []
          },
          "execution_count": 203
        }
      ]
    },
    {
      "cell_type": "code",
      "metadata": {
        "colab": {
          "base_uri": "https://localhost:8080/"
        },
        "id": "JJkwB1-LvNeC",
        "outputId": "daa101ea-8b18-4c58-a868-97d41722bd29"
      },
      "source": [
        "f1_score(y_testing,y_pred, average='macro')"
      ],
      "execution_count": null,
      "outputs": [
        {
          "output_type": "execute_result",
          "data": {
            "text/plain": [
              "0.48498373610012196"
            ]
          },
          "metadata": {
            "tags": []
          },
          "execution_count": 204
        }
      ]
    },
    {
      "cell_type": "code",
      "metadata": {
        "colab": {
          "base_uri": "https://localhost:8080/",
          "height": 265
        },
        "id": "j_FEhRnqvP23",
        "outputId": "c74ed4d8-d486-4cbc-9069-69714fb960db"
      },
      "source": [
        "a = confusion_matrix(y_testing,y_pred)\n",
        "lbls =['ANG', 'DIS','FEA', 'HAP','NEU', 'SAD']\n",
        "\n",
        "fig, ax = plt.subplots()\n",
        "im = ax.imshow(a, cmap='hot', interpolation='nearest')\n",
        "ax.set_xticks(range(6))\n",
        "ax.set_xticklabels(lbls, rotation='horizontal')\n",
        "ax.set_yticks(range(6))\n",
        "ax.set_yticklabels(lbls, rotation='horizontal')\n",
        "\n",
        "plt.colorbar(im)\n",
        "\n",
        "plt.show()"
      ],
      "execution_count": null,
      "outputs": [
        {
          "output_type": "display_data",
          "data": {
            "image/png": "[encoded data removed]",
            "text/plain": [
              "<Figure size 432x288 with 2 Axes>"
            ]
          },
          "metadata": {
            "tags": [],
            "needs_background": "light"
          }
        }
      ]
    }
  ]
}